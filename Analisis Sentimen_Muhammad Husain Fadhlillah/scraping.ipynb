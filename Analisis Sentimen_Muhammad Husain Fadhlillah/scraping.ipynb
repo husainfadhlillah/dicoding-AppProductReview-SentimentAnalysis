{
  "nbformat": 4,
  "nbformat_minor": 0,
  "metadata": {
    "colab": {
      "provenance": []
    },
    "kernelspec": {
      "name": "python3",
      "display_name": "Python 3"
    },
    "language_info": {
      "name": "python"
    }
  },
  "cells": [
    {
      "cell_type": "markdown",
      "source": [
        "# **Proyek Analisis Sentimen: Scraping Data Ulasan Aplikasi Tokopedia**\n",
        "\n",
        "Notebook ini bertujuan untuk melakukan scraping data ulasan dari aplikasi Tokopedia di Google Play Store menggunakan library `google-play-scraper`. Data yang dihasilkan akan disimpan dalam format CSV untuk digunakan pada tahap pemodelan."
      ],
      "metadata": {
        "id": "v3HPviU038g3"
      }
    },
    {
      "cell_type": "markdown",
      "source": [
        "- **Nama:** Muhammad Husain Fadhlillah\n",
        "- **Email Student:** mc006d5y2343@student.devacademy.id\n",
        "- **Cohort ID:** MC006D5Y2343"
      ],
      "metadata": {
        "id": "N30emDYukRpp"
      }
    },
    {
      "cell_type": "markdown",
      "source": [
        "## **1. Instalasi Library**"
      ],
      "metadata": {
        "id": "0G6hf0UECHhS"
      }
    },
    {
      "cell_type": "code",
      "source": [
        "# Menginstal library google-play-scraper jika belum terpasang di lingkungan kerja\n",
        "!pip install google-play-scraper -q"
      ],
      "metadata": {
        "id": "Dlu5uHYm4N2T"
      },
      "execution_count": 1,
      "outputs": []
    },
    {
      "cell_type": "markdown",
      "source": [
        "* **Metode yang digunakan** → Metode yang digunakan adalah instalasi *library* Python `google-play-scraper` menggunakan manajer paket `pip`. Perintah `!pip install` dieksekusi langsung dari dalam lingkungan *notebook* (seperti Google Colab atau Jupyter) untuk menambahkan *library* ini ke sesi kerja saat ini. Opsi `-q` (*quiet*) ditambahkan untuk menekan *output* proses instalasi yang panjang, sehingga tampilan *notebook* lebih bersih dan ringkas.\n",
        "\n",
        "* **Alasan penggunaan** → Sesuai dengan **kriteria utama proyek**, data yang akan dianalisis harus merupakan hasil *scraping* secara mandiri. *Library* `google-play-scraper` dipilih karena merupakan alat yang sangat relevan, efisien, dan populer untuk mengotomatisasi proses pengumpulan data ulasan (*reviews*) aplikasi langsung dari platform Google Play Store. Penggunaan *library* ini adalah langkah fundamental untuk memenuhi syarat pengumpulan data mentah, di mana proyek ini menargetkan **minimal 10.000 sampel data** untuk mencapai kriteria Bintang 5. Dengan alat ini, data ulasan yang menjadi dasar analisis sentimen dapat diperoleh secara terprogram dan dalam skala besar.\n",
        "\n",
        "* **Insight dan Hasil yang didapat** → *Output* yang menunjukkan status `(berhasil)` adalah konfirmasi bahwa *library* `google-play-scraper` telah sukses terpasang di lingkungan kerja tanpa ada kendala teknis atau konflik dependensi. **Insight utamanya adalah bahwa fondasi untuk tahap pengumpulan data telah berhasil disiapkan.** Ini adalah langkah awal yang krusial; tanpanya, proses *scraping* tidak dapat dilakukan. Keberhasilan instalasi ini memvalidasi bahwa lingkungan pengembangan telah siap dan memungkinkan proyek untuk melanjutkan ke tahap selanjutnya, yaitu merancang skrip untuk menarik ribuan data ulasan yang akan menjadi objek utama dari analisis sentimen ini."
      ],
      "metadata": {
        "id": "8JG-LgnXiawr"
      }
    },
    {
      "cell_type": "markdown",
      "source": [
        "## **2. Import Library**"
      ],
      "metadata": {
        "id": "JXUC4cRB4STq"
      }
    },
    {
      "cell_type": "code",
      "source": [
        "# Untuk mengabaikan peringatan yang tidak relevan agar output lebih bersih\n",
        "import warnings\n",
        "warnings.filterwarnings('ignore')\n",
        "\n",
        "# Mengimpor library yang diperlukan\n",
        "import pandas as pd\n",
        "from google_play_scraper import Sort, reviews\n",
        "import datetime as dt\n",
        "\n",
        "print(\"Library berhasil diimpor!\")"
      ],
      "metadata": {
        "colab": {
          "base_uri": "https://localhost:8080/"
        },
        "id": "pj2qyU-V4TlC",
        "outputId": "0eb95c9b-47ac-4a3e-a078-9a8c55aee129"
      },
      "execution_count": 2,
      "outputs": [
        {
          "output_type": "stream",
          "name": "stdout",
          "text": [
            "Library berhasil diimpor!\n"
          ]
        }
      ]
    },
    {
      "cell_type": "markdown",
      "source": [
        "* **Metode yang digunakan** → Metode yang diterapkan adalah **impor *library* (pustaka) Python** yang akan menjadi fondasi untuk seluruh alur kerja proyek. Setiap *library* memiliki fungsi spesifik:\n",
        "    * `warnings`: Digunakan untuk mengelola dan menyaring pesan peringatan yang mungkin muncul selama eksekusi kode.\n",
        "    * `pandas` (diimpor sebagai `pd`): Pustaka fundamental untuk manipulasi dan analisis data, terutama untuk data terstruktur seperti tabel.\n",
        "    * `google_play_scraper` (khususnya fungsi `reviews` dan `Sort`): Pustaka yang telah diinstal sebelumnya, kini fungsinya diimpor secara spesifik untuk digunakan dalam proses *scraping*.\n",
        "    * `datetime` (diimpor sebagai `dt`): Pustaka standar Python untuk bekerja dengan objek tanggal dan waktu.\n",
        "\n",
        "* **Alasan penggunaan** → Pemilihan *library* ini sangat strategis dan relevan dengan kebutuhan proyek analisis sentimen ini:\n",
        "    * `warnings.filterwarnings('ignore')` digunakan untuk menjaga kebersihan dan keterbacaan *notebook*. Dengan menyembunyikan peringatan yang tidak krusial (misalnya, *deprecation warning* dari *library* lain), *output* menjadi lebih fokus pada hasil analisis yang penting bagi *reviewer*.\n",
        "    * `pandas` adalah alat **wajib** dalam proyek ilmu data. Data ulasan yang akan di-*scrape* nantinya akan disimpan dan dikelola dalam struktur data **DataFrame**, yang memungkinkan pembersihan, transformasi, dan analisis data dilakukan secara efisien, terutama saat bekerja dengan puluhan ribu baris data.\n",
        "    * Fungsi `reviews` dan `Sort` dari `google_play_scraper` adalah inti dari mekanisme pengumpulan data. `reviews` akan dipanggil untuk mengambil ulasan, sementara `Sort` akan digunakan untuk mengontrol urutan ulasan yang diambil (misalnya, berdasarkan yang terbaru atau yang paling relevan), memastikan data yang didapat sesuai dengan kebutuhan.\n",
        "    * `datetime` diperlukan karena data ulasan biasanya menyertakan informasi tanggal (`timestamp`). *Library* ini akan berguna untuk memfilter data berdasarkan periode waktu tertentu atau untuk melakukan analisis tren sentimen dari waktu ke waktu.\n",
        "\n",
        "* **Insight dan Hasil yang didapat** → *Output* `Library berhasil diimpor!` menandakan bahwa semua *library* yang dibutuhkan telah berhasil dimuat ke dalam memori tanpa adanya eror, seperti `ModuleNotFoundError`. **Insight utamanya adalah bahwa lingkungan kerja telah sepenuhnya siap dan terkonfigurasi untuk dua tahap krusial berikutnya: pengumpulan data dan manipulasi data.** Keberhasilan langkah ini mengonfirmasi tidak ada masalah pada instalasi Python maupun *library* itu sendiri."
      ],
      "metadata": {
        "id": "yAWaiPI9i18f"
      }
    },
    {
      "cell_type": "markdown",
      "source": [
        "## **3. Menentukan Parameter Scraping**"
      ],
      "metadata": {
        "id": "QlvTE2EQ4vOM"
      }
    },
    {
      "cell_type": "code",
      "source": [
        "# Menentukan ID aplikasi Tokopedia di Google Play Store\n",
        "# ID ini diambil dari URL laman aplikasi di Play Store: https://play.google.com/store/apps/details?id=com.tokopedia.tkpd&hl=id\n",
        "app_id = 'com.tokopedia.tkpd'\n",
        "\n",
        "# Menentukan jumlah ulasan yang ingin diambil\n",
        "# Kita ambil 15.000 untuk memastikan data setelah pembersihan tetap di atas 10.000\n",
        "jumlah_ulasan = 15000\n",
        "\n",
        "print(f\"ID Aplikasi yang akan di-scrape: {app_id}\")\n",
        "print(f\"Target Jumlah Ulasan: {jumlah_ulasan}\")"
      ],
      "metadata": {
        "colab": {
          "base_uri": "https://localhost:8080/"
        },
        "id": "yyXZaydF4xZi",
        "outputId": "5451e26d-2d47-42f7-999b-9cc3e7b5abcd"
      },
      "execution_count": 3,
      "outputs": [
        {
          "output_type": "stream",
          "name": "stdout",
          "text": [
            "ID Aplikasi yang akan di-scrape: com.tokopedia.tkpd\n",
            "Target Jumlah Ulasan: 15000\n"
          ]
        }
      ]
    },
    {
      "cell_type": "markdown",
      "source": [
        "* **Metode yang digunakan** → Metode yang diterapkan pada tahap ini adalah **inisialisasi parameter**. Dua variabel kunci didefinisikan: `app_id` (sebagai *string*) dan `jumlah_ulasan` (sebagai *integer*). Parameter ini akan berfungsi sebagai argumen input untuk fungsi *scraping* dari *library* `google-play-scraper` pada langkah berikutnya.\n",
        "\n",
        "* **Alasan penggunaan** → Penetapan parameter ini adalah langkah strategis yang mendefinisikan lingkup dan target pengumpulan data:\n",
        "    * **`app_id = 'com.tokopedia.tkpd'`**: Aplikasi Tokopedia dipilih sebagai subjek analisis karena merupakan salah satu platform *e-commerce* terbesar di Indonesia. Hal ini menjamin ketersediaan volume data ulasan yang sangat besar, beragam, dan relevan dengan konteks pengguna di Indonesia, menjadikannya sumber data yang kaya untuk analisis sentimen.\n",
        "    * **`jumlah_ulasan = 15000`**: Jumlah target ulasan ditetapkan sebesar 15.000, melebihi syarat minimal **10.000 sampel** untuk Bintang 5. Keputusan ini bersifat **proaktif dan kritis**. Dalam praktik, data mentah hasil *scraping* sering kali mengandung *noise* (duplikasi, ulasan kosong, ulasan tidak relevan, atau ulasan dalam bahasa asing). Dengan menargetkan jumlah yang lebih tinggi, kita menciptakan *buffer* atau cadangan untuk memastikan bahwa setelah proses **pembersihan data (data cleaning)**, jumlah sampel yang valid dan siap digunakan akan tetap memenuhi atau bahkan melampaui target minimal yang disyaratkan proyek. Ini menunjukkan perencanaan yang matang.\n",
        "\n",
        "* **Insight dan Hasil yang didapat** → *Output* program ini secara eksplisit mengonfirmasi parameter yang akan digunakan, yaitu aplikasi **Tokopedia** dengan target **15.000 ulasan**. **Insight utamanya adalah bahwa ruang lingkup pengumpulan data kini telah ditetapkan secara konkret dan dapat direproduksi.** Proyek tidak lagi bersifat abstrak, melainkan memiliki target yang jelas dan terukur. Langkah ini secara efektif menyelesaikan tahap persiapan dan mendefinisikan \"apa\" dan \"berapa banyak\" data yang akan dikumpulkan."
      ],
      "metadata": {
        "id": "2XDcdTqTjMOM"
      }
    },
    {
      "cell_type": "markdown",
      "source": [
        "## **4. Melakukan Proses Scraping**"
      ],
      "metadata": {
        "id": "PrmJ3UhG4zmQ"
      }
    },
    {
      "cell_type": "code",
      "source": [
        "# Proses scraping data ulasan menggunakan fungsi 'reviews'\n",
        "# Fungsi ini akan mengambil ulasan hingga jumlah 'count' yang ditentukan\n",
        "# Sort.MOST_RELEVANT digunakan untuk mendapatkan ulasan yang dianggap paling relevan oleh Play Store\n",
        "# lang='id' dan country='id' untuk memastikan ulasan yang didapat berbahasa Indonesia\n",
        "\n",
        "print(\"Memulai proses scraping...\")\n",
        "hasil_scraping, continuation_token = reviews(\n",
        "    app_id,\n",
        "    lang='id',\n",
        "    country='id',\n",
        "    sort=Sort.MOST_RELEVANT,\n",
        "    count=jumlah_ulasan,\n",
        "    filter_score_with=None # Mengambil semua skor rating (bintang 1 hingga 5)\n",
        ")\n",
        "\n",
        "print(f\"Proses scraping selesai. Berhasil mengumpulkan {len(hasil_scraping)} ulasan.\")"
      ],
      "metadata": {
        "colab": {
          "base_uri": "https://localhost:8080/"
        },
        "id": "ZadbDyFv41cL",
        "outputId": "8b1368bc-6fc2-4c27-a2d1-11f97a882276"
      },
      "execution_count": 4,
      "outputs": [
        {
          "output_type": "stream",
          "name": "stdout",
          "text": [
            "Memulai proses scraping...\n",
            "Proses scraping selesai. Berhasil mengumpulkan 15000 ulasan.\n"
          ]
        }
      ]
    },
    {
      "cell_type": "markdown",
      "source": [
        "* **Metode yang digunakan** → Metode yang dieksekusi adalah **otomatisasi pengumpulan data (automated data scraping)** menggunakan fungsi `reviews` dari *library* `google-play-scraper`. Fungsi ini dipanggil dengan serangkaian parameter yang telah ditentukan sebelumnya untuk mengarahkan proses *scraping* secara spesifik.\n",
        "\n",
        "* **Alasan penggunaan** → Pemanggilan fungsi ini adalah langkah eksekusi inti yang secara langsung memenuhi **kriteria utama proyek** yaitu mengumpulkan data secara mandiri. Setiap parameter dipilih dengan alasan yang kritis:\n",
        "    * `lang='id'` dan `country='id'`: Parameter ini krusial untuk memastikan data yang dikumpulkan **sangat relevan** dengan konteks proyek. Dengan menetapkan bahasa dan negara ke Indonesia, kita secara proaktif menyaring ulasan dari sumbernya, sehingga data yang didapat mayoritas besar akan berbahasa Indonesia dan cocok untuk dianalisis oleh model sentimen berbahasa Indonesia.\n",
        "    * `sort=Sort.MOST_RELEVANT`: Opsi ini dipilih ketimbang `Sort.NEWEST` untuk mendapatkan ulasan yang oleh algoritma Google dianggap paling informatif dan bermanfaat. Ulasan relevan cenderung lebih kaya akan opini dan detail, sehingga memberikan materi teks yang lebih berkualitas untuk melatih model analisis sentimen.\n",
        "    * `count=jumlah_ulasan`: Menggunakan variabel `jumlah_ulasan` (15.000) sebagai target untuk memastikan volume data mentah yang besar, sesuai dengan strategi untuk mendapatkan lebih dari 10.000 data bersih di akhir proses.\n",
        "    * `filter_score_with=None`: Ini adalah keputusan **paling fundamental** untuk proyek analisis sentimen. Dengan tidak memfilter berdasarkan skor (rating bintang), kita memastikan bahwa data yang terkumpul mencakup **seluruh spektrum sentimen**: ulasan negatif (bintang 1-2), netral (bintang 3), dan positif (bintang 4-5). Ketiadaan filter ini menjamin keragaman data yang esensial untuk melatih model yang seimbang dan tidak bias.\n",
        "\n",
        "* **Insight dan Hasil yang didapat** → *Output* `Proses scraping selesai. Berhasil mengumpulkan 15000 ulasan.` secara lugas mengonfirmasi keberhasilan eksekusi. **Insight utamanya adalah bahwa tahap akuisisi data telah selesai dengan sukses, dan aset data mentah untuk proyek ini kini telah tersedia.** Proyek telah berhasil mencapai target volume (15.000 sampel) dan keragaman (semua rating). Data ini, yang tersimpan dalam variabel `hasil_scraping`, merupakan fondasi mentah yang akan diproses pada tahap-tahap selanjutnya."
      ],
      "metadata": {
        "id": "QSjukcQnjkhJ"
      }
    },
    {
      "cell_type": "markdown",
      "source": [
        "## **5. Menyimpan Data ke dalam Format CSV**"
      ],
      "metadata": {
        "id": "zfuIrWIu44zN"
      }
    },
    {
      "cell_type": "code",
      "source": [
        "# Mengubah hasil scraping (yang berupa list of dictionary) menjadi DataFrame pandas\n",
        "df_ulasan = pd.DataFrame(hasil_scraping)\n",
        "\n",
        "# Membuat nama file yang dinamis berdasarkan ID aplikasi dan jumlah data\n",
        "nama_file = f\"tokopedia_reviews_{len(df_ulasan)}.csv\"\n",
        "\n",
        "# Menyimpan DataFrame ke dalam file CSV. index=False agar indeks DataFrame tidak ikut tersimpan\n",
        "df_ulasan.to_csv(nama_file, index=False)\n",
        "\n",
        "print(f\"Data berhasil disimpan dalam file: {nama_file}\")\n",
        "print(\"Menampilkan 5 baris pertama dari data:\")\n",
        "df_ulasan.head()"
      ],
      "metadata": {
        "colab": {
          "base_uri": "https://localhost:8080/",
          "height": 661
        },
        "id": "dHPo_aNx46B-",
        "outputId": "629c25c4-b187-4572-87ec-5a65ab83d0a2"
      },
      "execution_count": 5,
      "outputs": [
        {
          "output_type": "stream",
          "name": "stdout",
          "text": [
            "Data berhasil disimpan dalam file: tokopedia_reviews_15000.csv\n",
            "Menampilkan 5 baris pertama dari data:\n"
          ]
        },
        {
          "output_type": "execute_result",
          "data": {
            "text/plain": [
              "                               reviewId         userName  \\\n",
              "0  ceacddfc-63fb-4e47-b055-4010782464c2  Pengguna Google   \n",
              "1  82e29807-9198-4335-a6a4-3c762b78ac21  Pengguna Google   \n",
              "2  9ff149a0-33ac-41d4-95b7-f8e9e00cfb35  Pengguna Google   \n",
              "3  5e091935-1fbc-4097-820e-5237e6c3d73c  Pengguna Google   \n",
              "4  96c5aa7d-3c77-4b6b-bc0f-46435ef45f3e  Pengguna Google   \n",
              "\n",
              "                                           userImage  \\\n",
              "0  https://play-lh.googleusercontent.com/EGemoI2N...   \n",
              "1  https://play-lh.googleusercontent.com/EGemoI2N...   \n",
              "2  https://play-lh.googleusercontent.com/EGemoI2N...   \n",
              "3  https://play-lh.googleusercontent.com/EGemoI2N...   \n",
              "4  https://play-lh.googleusercontent.com/EGemoI2N...   \n",
              "\n",
              "                                             content  score  thumbsUpCount  \\\n",
              "0  dulu saya pake Mitra Tokopedia, karena sudah d...      5              2   \n",
              "1  kok sekarang Tokopedia jadi jelek abis yak? mu...      1            132   \n",
              "2  Semenjak Tokopedia di bawah naungan Tiktok, ma...      1            249   \n",
              "3  lebih mudah belanja di toko oren (sho...), laz...      1              4   \n",
              "4  Kolaborasi & integrasi Tokopedia, Gopay & Bank...      1            161   \n",
              "\n",
              "  reviewCreatedVersion                  at  \\\n",
              "0              3.315.0 2025-06-06 21:34:00   \n",
              "1              3.314.0 2025-06-07 12:47:05   \n",
              "2              3.314.0 2025-06-02 10:55:50   \n",
              "3              3.315.0 2025-06-12 07:21:24   \n",
              "4              3.315.0 2025-06-11 05:53:25   \n",
              "\n",
              "                                        replyContent           repliedAt  \\\n",
              "0                                               None                 NaT   \n",
              "1                                               None                 NaT   \n",
              "2                                               None                 NaT   \n",
              "3                                               None                 NaT   \n",
              "4  Halo Toppers, terima kasih atas rating yang ka... 2025-04-28 12:27:13   \n",
              "\n",
              "  appVersion  \n",
              "0    3.315.0  \n",
              "1    3.314.0  \n",
              "2    3.314.0  \n",
              "3    3.315.0  \n",
              "4    3.315.0  "
            ],
            "text/html": [
              "\n",
              "  <div id=\"df-85eb230d-012e-4a6f-8ab0-4ffa11f9c463\" class=\"colab-df-container\">\n",
              "    <div>\n",
              "<style scoped>\n",
              "    .dataframe tbody tr th:only-of-type {\n",
              "        vertical-align: middle;\n",
              "    }\n",
              "\n",
              "    .dataframe tbody tr th {\n",
              "        vertical-align: top;\n",
              "    }\n",
              "\n",
              "    .dataframe thead th {\n",
              "        text-align: right;\n",
              "    }\n",
              "</style>\n",
              "<table border=\"1\" class=\"dataframe\">\n",
              "  <thead>\n",
              "    <tr style=\"text-align: right;\">\n",
              "      <th></th>\n",
              "      <th>reviewId</th>\n",
              "      <th>userName</th>\n",
              "      <th>userImage</th>\n",
              "      <th>content</th>\n",
              "      <th>score</th>\n",
              "      <th>thumbsUpCount</th>\n",
              "      <th>reviewCreatedVersion</th>\n",
              "      <th>at</th>\n",
              "      <th>replyContent</th>\n",
              "      <th>repliedAt</th>\n",
              "      <th>appVersion</th>\n",
              "    </tr>\n",
              "  </thead>\n",
              "  <tbody>\n",
              "    <tr>\n",
              "      <th>0</th>\n",
              "      <td>ceacddfc-63fb-4e47-b055-4010782464c2</td>\n",
              "      <td>Pengguna Google</td>\n",
              "      <td>https://play-lh.googleusercontent.com/EGemoI2N...</td>\n",
              "      <td>dulu saya pake Mitra Tokopedia, karena sudah d...</td>\n",
              "      <td>5</td>\n",
              "      <td>2</td>\n",
              "      <td>3.315.0</td>\n",
              "      <td>2025-06-06 21:34:00</td>\n",
              "      <td>None</td>\n",
              "      <td>NaT</td>\n",
              "      <td>3.315.0</td>\n",
              "    </tr>\n",
              "    <tr>\n",
              "      <th>1</th>\n",
              "      <td>82e29807-9198-4335-a6a4-3c762b78ac21</td>\n",
              "      <td>Pengguna Google</td>\n",
              "      <td>https://play-lh.googleusercontent.com/EGemoI2N...</td>\n",
              "      <td>kok sekarang Tokopedia jadi jelek abis yak? mu...</td>\n",
              "      <td>1</td>\n",
              "      <td>132</td>\n",
              "      <td>3.314.0</td>\n",
              "      <td>2025-06-07 12:47:05</td>\n",
              "      <td>None</td>\n",
              "      <td>NaT</td>\n",
              "      <td>3.314.0</td>\n",
              "    </tr>\n",
              "    <tr>\n",
              "      <th>2</th>\n",
              "      <td>9ff149a0-33ac-41d4-95b7-f8e9e00cfb35</td>\n",
              "      <td>Pengguna Google</td>\n",
              "      <td>https://play-lh.googleusercontent.com/EGemoI2N...</td>\n",
              "      <td>Semenjak Tokopedia di bawah naungan Tiktok, ma...</td>\n",
              "      <td>1</td>\n",
              "      <td>249</td>\n",
              "      <td>3.314.0</td>\n",
              "      <td>2025-06-02 10:55:50</td>\n",
              "      <td>None</td>\n",
              "      <td>NaT</td>\n",
              "      <td>3.314.0</td>\n",
              "    </tr>\n",
              "    <tr>\n",
              "      <th>3</th>\n",
              "      <td>5e091935-1fbc-4097-820e-5237e6c3d73c</td>\n",
              "      <td>Pengguna Google</td>\n",
              "      <td>https://play-lh.googleusercontent.com/EGemoI2N...</td>\n",
              "      <td>lebih mudah belanja di toko oren (sho...), laz...</td>\n",
              "      <td>1</td>\n",
              "      <td>4</td>\n",
              "      <td>3.315.0</td>\n",
              "      <td>2025-06-12 07:21:24</td>\n",
              "      <td>None</td>\n",
              "      <td>NaT</td>\n",
              "      <td>3.315.0</td>\n",
              "    </tr>\n",
              "    <tr>\n",
              "      <th>4</th>\n",
              "      <td>96c5aa7d-3c77-4b6b-bc0f-46435ef45f3e</td>\n",
              "      <td>Pengguna Google</td>\n",
              "      <td>https://play-lh.googleusercontent.com/EGemoI2N...</td>\n",
              "      <td>Kolaborasi &amp; integrasi Tokopedia, Gopay &amp; Bank...</td>\n",
              "      <td>1</td>\n",
              "      <td>161</td>\n",
              "      <td>3.315.0</td>\n",
              "      <td>2025-06-11 05:53:25</td>\n",
              "      <td>Halo Toppers, terima kasih atas rating yang ka...</td>\n",
              "      <td>2025-04-28 12:27:13</td>\n",
              "      <td>3.315.0</td>\n",
              "    </tr>\n",
              "  </tbody>\n",
              "</table>\n",
              "</div>\n",
              "    <div class=\"colab-df-buttons\">\n",
              "\n",
              "  <div class=\"colab-df-container\">\n",
              "    <button class=\"colab-df-convert\" onclick=\"convertToInteractive('df-85eb230d-012e-4a6f-8ab0-4ffa11f9c463')\"\n",
              "            title=\"Convert this dataframe to an interactive table.\"\n",
              "            style=\"display:none;\">\n",
              "\n",
              "  <svg xmlns=\"http://www.w3.org/2000/svg\" height=\"24px\" viewBox=\"0 -960 960 960\">\n",
              "    <path d=\"M120-120v-720h720v720H120Zm60-500h600v-160H180v160Zm220 220h160v-160H400v160Zm0 220h160v-160H400v160ZM180-400h160v-160H180v160Zm440 0h160v-160H620v160ZM180-180h160v-160H180v160Zm440 0h160v-160H620v160Z\"/>\n",
              "  </svg>\n",
              "    </button>\n",
              "\n",
              "  <style>\n",
              "    .colab-df-container {\n",
              "      display:flex;\n",
              "      gap: 12px;\n",
              "    }\n",
              "\n",
              "    .colab-df-convert {\n",
              "      background-color: #E8F0FE;\n",
              "      border: none;\n",
              "      border-radius: 50%;\n",
              "      cursor: pointer;\n",
              "      display: none;\n",
              "      fill: #1967D2;\n",
              "      height: 32px;\n",
              "      padding: 0 0 0 0;\n",
              "      width: 32px;\n",
              "    }\n",
              "\n",
              "    .colab-df-convert:hover {\n",
              "      background-color: #E2EBFA;\n",
              "      box-shadow: 0px 1px 2px rgba(60, 64, 67, 0.3), 0px 1px 3px 1px rgba(60, 64, 67, 0.15);\n",
              "      fill: #174EA6;\n",
              "    }\n",
              "\n",
              "    .colab-df-buttons div {\n",
              "      margin-bottom: 4px;\n",
              "    }\n",
              "\n",
              "    [theme=dark] .colab-df-convert {\n",
              "      background-color: #3B4455;\n",
              "      fill: #D2E3FC;\n",
              "    }\n",
              "\n",
              "    [theme=dark] .colab-df-convert:hover {\n",
              "      background-color: #434B5C;\n",
              "      box-shadow: 0px 1px 3px 1px rgba(0, 0, 0, 0.15);\n",
              "      filter: drop-shadow(0px 1px 2px rgba(0, 0, 0, 0.3));\n",
              "      fill: #FFFFFF;\n",
              "    }\n",
              "  </style>\n",
              "\n",
              "    <script>\n",
              "      const buttonEl =\n",
              "        document.querySelector('#df-85eb230d-012e-4a6f-8ab0-4ffa11f9c463 button.colab-df-convert');\n",
              "      buttonEl.style.display =\n",
              "        google.colab.kernel.accessAllowed ? 'block' : 'none';\n",
              "\n",
              "      async function convertToInteractive(key) {\n",
              "        const element = document.querySelector('#df-85eb230d-012e-4a6f-8ab0-4ffa11f9c463');\n",
              "        const dataTable =\n",
              "          await google.colab.kernel.invokeFunction('convertToInteractive',\n",
              "                                                    [key], {});\n",
              "        if (!dataTable) return;\n",
              "\n",
              "        const docLinkHtml = 'Like what you see? Visit the ' +\n",
              "          '<a target=\"_blank\" href=https://colab.research.google.com/notebooks/data_table.ipynb>data table notebook</a>'\n",
              "          + ' to learn more about interactive tables.';\n",
              "        element.innerHTML = '';\n",
              "        dataTable['output_type'] = 'display_data';\n",
              "        await google.colab.output.renderOutput(dataTable, element);\n",
              "        const docLink = document.createElement('div');\n",
              "        docLink.innerHTML = docLinkHtml;\n",
              "        element.appendChild(docLink);\n",
              "      }\n",
              "    </script>\n",
              "  </div>\n",
              "\n",
              "\n",
              "    <div id=\"df-adaceb38-3810-4515-bffd-995bb9fa23c2\">\n",
              "      <button class=\"colab-df-quickchart\" onclick=\"quickchart('df-adaceb38-3810-4515-bffd-995bb9fa23c2')\"\n",
              "                title=\"Suggest charts\"\n",
              "                style=\"display:none;\">\n",
              "\n",
              "<svg xmlns=\"http://www.w3.org/2000/svg\" height=\"24px\"viewBox=\"0 0 24 24\"\n",
              "     width=\"24px\">\n",
              "    <g>\n",
              "        <path d=\"M19 3H5c-1.1 0-2 .9-2 2v14c0 1.1.9 2 2 2h14c1.1 0 2-.9 2-2V5c0-1.1-.9-2-2-2zM9 17H7v-7h2v7zm4 0h-2V7h2v10zm4 0h-2v-4h2v4z\"/>\n",
              "    </g>\n",
              "</svg>\n",
              "      </button>\n",
              "\n",
              "<style>\n",
              "  .colab-df-quickchart {\n",
              "      --bg-color: #E8F0FE;\n",
              "      --fill-color: #1967D2;\n",
              "      --hover-bg-color: #E2EBFA;\n",
              "      --hover-fill-color: #174EA6;\n",
              "      --disabled-fill-color: #AAA;\n",
              "      --disabled-bg-color: #DDD;\n",
              "  }\n",
              "\n",
              "  [theme=dark] .colab-df-quickchart {\n",
              "      --bg-color: #3B4455;\n",
              "      --fill-color: #D2E3FC;\n",
              "      --hover-bg-color: #434B5C;\n",
              "      --hover-fill-color: #FFFFFF;\n",
              "      --disabled-bg-color: #3B4455;\n",
              "      --disabled-fill-color: #666;\n",
              "  }\n",
              "\n",
              "  .colab-df-quickchart {\n",
              "    background-color: var(--bg-color);\n",
              "    border: none;\n",
              "    border-radius: 50%;\n",
              "    cursor: pointer;\n",
              "    display: none;\n",
              "    fill: var(--fill-color);\n",
              "    height: 32px;\n",
              "    padding: 0;\n",
              "    width: 32px;\n",
              "  }\n",
              "\n",
              "  .colab-df-quickchart:hover {\n",
              "    background-color: var(--hover-bg-color);\n",
              "    box-shadow: 0 1px 2px rgba(60, 64, 67, 0.3), 0 1px 3px 1px rgba(60, 64, 67, 0.15);\n",
              "    fill: var(--button-hover-fill-color);\n",
              "  }\n",
              "\n",
              "  .colab-df-quickchart-complete:disabled,\n",
              "  .colab-df-quickchart-complete:disabled:hover {\n",
              "    background-color: var(--disabled-bg-color);\n",
              "    fill: var(--disabled-fill-color);\n",
              "    box-shadow: none;\n",
              "  }\n",
              "\n",
              "  .colab-df-spinner {\n",
              "    border: 2px solid var(--fill-color);\n",
              "    border-color: transparent;\n",
              "    border-bottom-color: var(--fill-color);\n",
              "    animation:\n",
              "      spin 1s steps(1) infinite;\n",
              "  }\n",
              "\n",
              "  @keyframes spin {\n",
              "    0% {\n",
              "      border-color: transparent;\n",
              "      border-bottom-color: var(--fill-color);\n",
              "      border-left-color: var(--fill-color);\n",
              "    }\n",
              "    20% {\n",
              "      border-color: transparent;\n",
              "      border-left-color: var(--fill-color);\n",
              "      border-top-color: var(--fill-color);\n",
              "    }\n",
              "    30% {\n",
              "      border-color: transparent;\n",
              "      border-left-color: var(--fill-color);\n",
              "      border-top-color: var(--fill-color);\n",
              "      border-right-color: var(--fill-color);\n",
              "    }\n",
              "    40% {\n",
              "      border-color: transparent;\n",
              "      border-right-color: var(--fill-color);\n",
              "      border-top-color: var(--fill-color);\n",
              "    }\n",
              "    60% {\n",
              "      border-color: transparent;\n",
              "      border-right-color: var(--fill-color);\n",
              "    }\n",
              "    80% {\n",
              "      border-color: transparent;\n",
              "      border-right-color: var(--fill-color);\n",
              "      border-bottom-color: var(--fill-color);\n",
              "    }\n",
              "    90% {\n",
              "      border-color: transparent;\n",
              "      border-bottom-color: var(--fill-color);\n",
              "    }\n",
              "  }\n",
              "</style>\n",
              "\n",
              "      <script>\n",
              "        async function quickchart(key) {\n",
              "          const quickchartButtonEl =\n",
              "            document.querySelector('#' + key + ' button');\n",
              "          quickchartButtonEl.disabled = true;  // To prevent multiple clicks.\n",
              "          quickchartButtonEl.classList.add('colab-df-spinner');\n",
              "          try {\n",
              "            const charts = await google.colab.kernel.invokeFunction(\n",
              "                'suggestCharts', [key], {});\n",
              "          } catch (error) {\n",
              "            console.error('Error during call to suggestCharts:', error);\n",
              "          }\n",
              "          quickchartButtonEl.classList.remove('colab-df-spinner');\n",
              "          quickchartButtonEl.classList.add('colab-df-quickchart-complete');\n",
              "        }\n",
              "        (() => {\n",
              "          let quickchartButtonEl =\n",
              "            document.querySelector('#df-adaceb38-3810-4515-bffd-995bb9fa23c2 button');\n",
              "          quickchartButtonEl.style.display =\n",
              "            google.colab.kernel.accessAllowed ? 'block' : 'none';\n",
              "        })();\n",
              "      </script>\n",
              "    </div>\n",
              "\n",
              "    </div>\n",
              "  </div>\n"
            ],
            "application/vnd.google.colaboratory.intrinsic+json": {
              "type": "dataframe",
              "variable_name": "df_ulasan",
              "summary": "{\n  \"name\": \"df_ulasan\",\n  \"rows\": 15000,\n  \"fields\": [\n    {\n      \"column\": \"reviewId\",\n      \"properties\": {\n        \"dtype\": \"string\",\n        \"num_unique_values\": 15000,\n        \"samples\": [\n          \"27e4c772-3d0f-4e00-b4a2-f72d20a64b4a\",\n          \"1a344c2d-1463-424c-8ac1-83acf508c40d\",\n          \"2799d3d3-582c-4125-86e2-8c93208d2680\"\n        ],\n        \"semantic_type\": \"\",\n        \"description\": \"\"\n      }\n    },\n    {\n      \"column\": \"userName\",\n      \"properties\": {\n        \"dtype\": \"category\",\n        \"num_unique_values\": 1268,\n        \"samples\": [\n          \"suci ramadhani\",\n          \"Dhonojoyo\",\n          \"Mancayyy _\"\n        ],\n        \"semantic_type\": \"\",\n        \"description\": \"\"\n      }\n    },\n    {\n      \"column\": \"userImage\",\n      \"properties\": {\n        \"dtype\": \"category\",\n        \"num_unique_values\": 1268,\n        \"samples\": [\n          \"https://play-lh.googleusercontent.com/a/ACg8ocI_qC-9f3wp2ZTqlbAS__AQ6ABgW_DlAsWh3hFfPA_VCYjrcg=mo\",\n          \"https://play-lh.googleusercontent.com/a-/ALV-UjXPm0_knSh38Ic8gbkadDD5QCRj18qkuh-t-qRcPMgo82JHCnBr\",\n          \"https://play-lh.googleusercontent.com/a-/ALV-UjWA1qdJ08A4a4VZt6iC0k_-hBrySKDdD0EWG4DzOQLQlXUQuptx\"\n        ],\n        \"semantic_type\": \"\",\n        \"description\": \"\"\n      }\n    },\n    {\n      \"column\": \"content\",\n      \"properties\": {\n        \"dtype\": \"string\",\n        \"num_unique_values\": 14976,\n        \"samples\": [\n          \"Klaim penggantian biaya retur dibatalkan karena alasan tidak mengirimkan resi hingga waktu yang ditetapkan. Padahal resi sudah saya kirimkan sejak awal bisa di tracking hingga barang sampai ke penjual. Sungguh aneh jika Toped tidak tau resi telah saya upload dari awal.\",\n          \"Termasuk yang paling lengkap untuk pembayaran dibandingkan sebelah. Seperti bayar pdam. Hanya saja disini jgn ngarepin promo yg wow. Tampilan cenderung membosankan tapi memiliki fitur dan filter yg lebih lengkap dan mendetail.\",\n          \"Suka banget sama apl ini.. \\ud83d\\ude0dsoalnya tiap pesan ngk pernah mengecewakan.. dan juga barang yg d pesan cepet sampai, + ada hiburannya juga.. khusus nya penggemar kpop seperti sya..\\ud83d\\ude01 apalagi klw sedang diskon( \\ud83d\\udc4d ).. poko'nya tokopedia memang the best.. \\ud83e\\udd17\"\n        ],\n        \"semantic_type\": \"\",\n        \"description\": \"\"\n      }\n    },\n    {\n      \"column\": \"score\",\n      \"properties\": {\n        \"dtype\": \"number\",\n        \"std\": 1,\n        \"min\": 1,\n        \"max\": 5,\n        \"num_unique_values\": 5,\n        \"samples\": [\n          1,\n          3,\n          2\n        ],\n        \"semantic_type\": \"\",\n        \"description\": \"\"\n      }\n    },\n    {\n      \"column\": \"thumbsUpCount\",\n      \"properties\": {\n        \"dtype\": \"number\",\n        \"std\": 127,\n        \"min\": 0,\n        \"max\": 9908,\n        \"num_unique_values\": 397,\n        \"samples\": [\n          92,\n          732,\n          251\n        ],\n        \"semantic_type\": \"\",\n        \"description\": \"\"\n      }\n    },\n    {\n      \"column\": \"reviewCreatedVersion\",\n      \"properties\": {\n        \"dtype\": \"category\",\n        \"num_unique_values\": 361,\n        \"samples\": [\n          \"3.239\",\n          \"3.167\",\n          \"3.295.0\"\n        ],\n        \"semantic_type\": \"\",\n        \"description\": \"\"\n      }\n    },\n    {\n      \"column\": \"at\",\n      \"properties\": {\n        \"dtype\": \"date\",\n        \"min\": \"2018-09-12 12:32:25\",\n        \"max\": \"2025-06-16 01:16:26\",\n        \"num_unique_values\": 15000,\n        \"samples\": [\n          \"2025-03-20 10:04:58\",\n          \"2025-05-04 05:04:07\",\n          \"2020-03-23 16:28:00\"\n        ],\n        \"semantic_type\": \"\",\n        \"description\": \"\"\n      }\n    },\n    {\n      \"column\": \"replyContent\",\n      \"properties\": {\n        \"dtype\": \"category\",\n        \"num_unique_values\": 3308,\n        \"samples\": [\n          \"Hai Dwinata, terima kasih atas feedback dan masukannya. Kami akan terus meningkatkan baik dari segi kualitas maupun kuantitas bagi pengguna Tokopedia. Kalau ada pertanyaan, kamu bisa menhubungi Tokopedia kembali. Selamat bertransaksi online di Tokopedia ya! :)\\n\\nSalam\\n^ind\",\n          \"Mohon maaf ya Kak kalau sudah membuat tidak nyaman. Kami akan selalu berinovasi untuk dapat menyediakan yang terbaik bagi seluruh pengguna. Besar harapan kami untuk tetap terus bertumbuh bersama Kakak dan menjadi tempat bertransaksi online kepercayaan Kakak\",\n          \"Mohon maaf untuk kendala yang Kakak alami ya Kak. Apabila Kakak memiliki kendala yang belum terselesaikan, Kakak dapat akses link tkp.me/supportMainapps untuk penanganan lebih lanjut. Kami akan selalu berupaya menjadi yang terbaik untuk Kakak :) -JR\"\n        ],\n        \"semantic_type\": \"\",\n        \"description\": \"\"\n      }\n    },\n    {\n      \"column\": \"repliedAt\",\n      \"properties\": {\n        \"dtype\": \"date\",\n        \"min\": \"2016-05-23 06:38:21\",\n        \"max\": \"2025-05-02 15:48:04\",\n        \"num_unique_values\": 10260,\n        \"samples\": [\n          \"2020-09-01 03:21:18\",\n          \"2023-03-25 08:03:05\",\n          \"2025-05-02 07:47:02\"\n        ],\n        \"semantic_type\": \"\",\n        \"description\": \"\"\n      }\n    },\n    {\n      \"column\": \"appVersion\",\n      \"properties\": {\n        \"dtype\": \"category\",\n        \"num_unique_values\": 361,\n        \"samples\": [\n          \"3.239\",\n          \"3.167\",\n          \"3.295.0\"\n        ],\n        \"semantic_type\": \"\",\n        \"description\": \"\"\n      }\n    }\n  ]\n}"
            }
          },
          "metadata": {},
          "execution_count": 5
        }
      ]
    },
    {
      "cell_type": "markdown",
      "source": [
        "* **Metode yang digunakan** → Tahap ini menggunakan dua metode utama:\n",
        "    1.  **Strukturisasi Data**: Hasil *scraping* yang awalnya berformat *list of dictionaries* diubah menjadi struktur data tabular dua dimensi menggunakan `pandas.DataFrame()`. Ini adalah langkah standar untuk mengubah data semi-terstruktur menjadi format yang terstruktur dan siap analisis.\n",
        "    2.  **Persistensi Data**: `DataFrame` yang telah dibuat kemudian disimpan ke dalam sebuah file fisik dengan format Comma-Separated Values (.csv) menggunakan metode `.to_csv()`. Ini membuat data menjadi persisten atau tidak hilang saat sesi *notebook* berakhir.\n",
        "\n",
        "* **Alasan penggunaan** →\n",
        "    * **Penggunaan DataFrame**: Data dalam format `DataFrame` jauh lebih mudah untuk dimanipulasi, dibersihkan, dan dianalisis dibandingkan format `list` mentah. `pandas` menyediakan *toolkit* yang sangat kaya untuk melakukan operasi seperti seleksi kolom, filtering baris, dan transformasi data, yang semuanya akan sangat diperlukan pada tahap pra-pemrosesan.\n",
        "    * **Penyimpanan ke CSV**: Langkah ini sangat krusial untuk **efisiensi dan reproduktifitas**. Proses *scraping* memakan waktu dan bergantung pada koneksi internet. Dengan menyimpan hasilnya ke file `.csv`, kita membuat sebuah **checkpoint**. Untuk pengerjaan selanjutnya (pembersihan, pemodelan), kita tidak perlu lagi menjalankan skrip *scraping* dari awal, cukup dengan memuat data dari file `.csv` ini. Penggunaan `index=False` adalah *best practice* untuk mencegah penambahan kolom indeks yang tidak perlu di dalam file CSV.\n",
        "\n",
        "* **Insight dan Hasil yang didapat** →\n",
        "    * **Konfirmasi Penyimpanan**: *Output* teks `Data berhasil disimpan dalam file: tokopedia_reviews_15000.csv` mengonfirmasi bahwa 15.000 ulasan telah berhasil disimpan secara lokal. Ini memenuhi salah satu **syarat kelengkapan berkas submission**, yaitu menyertakan file dataset hasil *scraping*.\n",
        "    * **Analisis Struktur Data Awal (dari `.head()`):** Tampilan lima baris pertama data memberikan *insight* pertama yang sangat berharga mengenai dataset yang kita miliki:\n",
        "        * **Identifikasi Fitur Kunci**: Kita dapat langsung mengidentifikasi kolom-kolom yang paling vital. Kolom **`content`** berisi teks ulasan yang akan menjadi fitur utama (input `X`) untuk model kita. Kolom **`score`** berisi rating bintang (1-5) yang akan menjadi dasar untuk membuat label sentimen (target `y`).\n",
        "        * **Potensi Pra-pemrosesan**: Dari `content`, terlihat bahwa teks masih mentah dan memerlukan pembersihan (misalnya, ada elipsis `...`, variasi kapitalisasi). Dari kolom lain seperti `userName` dan `userImage`, kita bisa melihat bahwa kolom-kolom ini kemungkinan tidak relevan untuk analisis sentimen dan dapat dibuang nanti untuk menyederhanakan *dataset*.\n",
        "        * **Keragaman Data**: Sekilas, data menunjukkan keragaman skor (terlihat skor `5` dan `1`) dan adanya balasan dari pengembang (`replyContent`), yang mengindikasikan kekayaan data mentah yang kita peroleh."
      ],
      "metadata": {
        "id": "2N5TbL-ZkF7X"
      }
    }
  ]
}