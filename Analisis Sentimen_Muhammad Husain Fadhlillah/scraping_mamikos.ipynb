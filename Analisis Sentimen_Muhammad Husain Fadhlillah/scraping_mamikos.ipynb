{
  "cells": [
    {
      "cell_type": "markdown",
      "metadata": {
        "id": "oaSBmttH8xx2"
      },
      "source": [
        "# **Proyek Analisis Sentimen: (Bagian 1) Scraping Data Ulasan Aplikasi Mamikos**"
      ]
    },
    {
      "cell_type": "markdown",
      "metadata": {
        "id": "WVOkI3FI8w7m"
      },
      "source": [
        "- **Nama:** Muhammad Husain Fadhlillah\n",
        "- **Email Student:** mc006d5y2343@student.devacademy.id\n",
        "- **Cohort ID:** MC006D5Y2343\n",
        "\n",
        "Notebook ini bertujuan untuk melakukan scraping data ulasan (reviews) dari aplikasi Mamikos di Google Play Store."
      ]
    },
    {
      "cell_type": "markdown",
      "metadata": {},
      "source": [
        "### **1. Import Library**\n",
        "Mengimpor pustaka yang diperlukan untuk proses scraping dan manipulasi data.\n",
        "- `google_play_scraper`: Untuk berinteraksi dengan Google Play Store.\n",
        "- `pandas`: Untuk mengelola data dalam format DataFrame.\n",
        "- `time`: Untuk memberikan jeda antar request agar tidak membebani server."
      ]
    },
    {
      "cell_type": "code",
      "execution_count": 1,
      "metadata": {
        "id": "ibvs660LxqZ-"
      },
      "outputs": [
        {
          "name": "stdout",
          "output_type": "stream",
          "text": [
            "Requirement already satisfied: google-play-scraper in d:\\anaconda\\lib\\site-packages (1.2.7)\n",
            "Requirement already satisfied: pandas in d:\\anaconda\\lib\\site-packages (1.5.3)\n",
            "Requirement already satisfied: python-dateutil>=2.8.1 in d:\\anaconda\\lib\\site-packages (from pandas) (2.8.2)\n",
            "Requirement already satisfied: pytz>=2020.1 in d:\\anaconda\\lib\\site-packages (from pandas) (2022.7)\n",
            "Requirement already satisfied: numpy>=1.21.0 in d:\\anaconda\\lib\\site-packages (from pandas) (1.23.5)\n",
            "Requirement already satisfied: six>=1.5 in d:\\anaconda\\lib\\site-packages (from python-dateutil>=2.8.1->pandas) (1.16.0)\n",
            "Note: you may need to restart the kernel to use updated packages.\n"
          ]
        },
        {
          "name": "stderr",
          "output_type": "stream",
          "text": [
            "WARNING: Ignoring invalid distribution -orch (d:\\anaconda\\lib\\site-packages)\n",
            "WARNING: Ignoring invalid distribution -orch (d:\\anaconda\\lib\\site-packages)\n",
            "WARNING: Ignoring invalid distribution -orch (d:\\anaconda\\lib\\site-packages)\n",
            "\n",
            "[notice] A new release of pip is available: 25.0.1 -> 25.1.1\n",
            "[notice] To update, run: python.exe -m pip install --upgrade pip\n"
          ]
        },
        {
          "name": "stdout",
          "output_type": "stream",
          "text": [
            "Library berhasil diimport.\n"
          ]
        }
      ],
      "source": [
        "# Instalasi library google-play-scraper\n",
        "%pip install google-play-scraper pandas\n",
        "\n",
        "# Import library yang diperlukan\n",
        "import pandas as pd\n",
        "import numpy as np\n",
        "import os\n",
        "import time\n",
        "from google_play_scraper import reviews, Sort\n",
        "from datetime import datetime\n",
        "\n",
        "# Untuk mengabaikan peringatan\n",
        "import warnings\n",
        "warnings.filterwarnings('ignore')\n",
        "\n",
        "print(\"Library berhasil diimport.\")"
      ]
    },
    {
      "cell_type": "markdown",
      "metadata": {},
      "source": [
        "### **2. Penentuan Parameter Scraping**\n",
        "Mendefinisikan parameter utama untuk proses scraping, seperti ID aplikasi, target jumlah ulasan per skor, dan bahasa."
      ]
    },
    {
      "cell_type": "code",
      "execution_count": 2,
      "metadata": {},
      "outputs": [
        {
          "name": "stdout",
          "output_type": "stream",
          "text": [
            "Target aplikasi: com.git.mami.kos\n",
            "Target ulasan per skor: 3000 ulasan\n",
            "Target total minimum: 15000 ulasan\n"
          ]
        }
      ],
      "source": [
        "# ID aplikasi Mamikos di Google Play Store\n",
        "app_id = 'com.git.mami.kos'\n",
        "\n",
        "# Target jumlah ulasan untuk mencapai 10.000+ total\n",
        "target_per_score = 3000 \n",
        "\n",
        "# Menyiapkan list untuk menampung semua hasil scraping\n",
        "all_reviews = []\n",
        "\n",
        "print(f\"Target aplikasi: {app_id}\")\n",
        "print(f\"Target ulasan per skor: {target_per_score} ulasan\")\n",
        "print(f\"Target total minimum: {target_per_score * 5} ulasan\")"
      ]
    },
    {
      "cell_type": "markdown",
      "metadata": {},
      "source": [
        "### **3. Proses Scraping Data Secara Seimbang**\n",
        "Memulai proses scraping dengan melakukan iterasi untuk setiap skor bintang (dari 1 hingga 5). Untuk setiap skor, mengambil ulasan sebanyak target yang telah ditentukan."
      ]
    },
    {
      "cell_type": "code",
      "execution_count": 3,
      "metadata": {},
      "outputs": [
        {
          "name": "stdout",
          "output_type": "stream",
          "text": [
            "============================================================\n",
            "MEMULAI PROSES SCRAPING DENGAN TARGET 10.000+ ULASAN\n",
            "============================================================\n",
            "\n",
            "==================================================\n",
            "SCRAPING ULASAN DENGAN SKOR: 1\n",
            "==================================================\n",
            "Percobaan ke-1 untuk skor 1\n",
            "✅ Berhasil mengambil 1670 ulasan untuk skor 1\n",
            "📊 Total ulasan terkumpul sejauh ini: 1670\n",
            "⏳ Memberi jeda 15 detik...\n",
            "\n",
            "==================================================\n",
            "SCRAPING ULASAN DENGAN SKOR: 2\n",
            "==================================================\n",
            "Percobaan ke-1 untuk skor 2\n",
            "✅ Berhasil mengambil 470 ulasan untuk skor 2\n",
            "📊 Total ulasan terkumpul sejauh ini: 2140\n",
            "⏳ Memberi jeda 15 detik...\n",
            "\n",
            "==================================================\n",
            "SCRAPING ULASAN DENGAN SKOR: 3\n",
            "==================================================\n",
            "Percobaan ke-1 untuk skor 3\n",
            "✅ Berhasil mengambil 791 ulasan untuk skor 3\n",
            "📊 Total ulasan terkumpul sejauh ini: 2931\n",
            "⏳ Memberi jeda 15 detik...\n",
            "\n",
            "==================================================\n",
            "SCRAPING ULASAN DENGAN SKOR: 4\n",
            "==================================================\n",
            "Percobaan ke-1 untuk skor 4\n",
            "✅ Berhasil mengambil 1043 ulasan untuk skor 4\n",
            "📊 Total ulasan terkumpul sejauh ini: 3974\n",
            "⏳ Memberi jeda 15 detik...\n",
            "\n",
            "==================================================\n",
            "SCRAPING ULASAN DENGAN SKOR: 5\n",
            "==================================================\n",
            "Percobaan ke-1 untuk skor 5\n",
            "✅ Berhasil mengambil 3000 ulasan untuk skor 5\n",
            "📊 Total ulasan terkumpul sejauh ini: 6974\n",
            "⏳ Memberi jeda 15 detik...\n",
            "\n",
            "============================================================\n",
            "PROSES SCRAPING SELESAI\n",
            "============================================================\n",
            "📊 Total ulasan yang berhasil dikumpulkan: 6974\n",
            "⚠️ Masih kurang 3026 ulasan dari target 10.000\n"
          ]
        }
      ],
      "source": [
        "def scrape_reviews_with_retry(app_id, score, target_count, max_retries=3):\n",
        "    \"\"\"\n",
        "    Fungsi untuk scraping dengan retry mechanism\n",
        "    \"\"\"\n",
        "    for attempt in range(max_retries):\n",
        "        try:\n",
        "            print(f\"Percobaan ke-{attempt + 1} untuk skor {score}\")\n",
        "            \n",
        "            result, token = reviews(\n",
        "                app_id,\n",
        "                lang='id',                # Bahasa: Indonesia\n",
        "                country='id',             # Negara: Indonesia\n",
        "                count=target_count,       # Jumlah ulasan yang ingin diambil\n",
        "                filter_score_with=score   # Filter berdasarkan skor bintang\n",
        "            )\n",
        "            \n",
        "            print(f\"✅ Berhasil mengambil {len(result)} ulasan untuk skor {score}\")\n",
        "            return result\n",
        "            \n",
        "        except Exception as e:\n",
        "            print(f\"❌ Percobaan ke-{attempt + 1} gagal untuk skor {score}: {e}\")\n",
        "            if attempt < max_retries - 1:\n",
        "                wait_time = (attempt + 1) * 5\n",
        "                print(f\"Menunggu {wait_time} detik sebelum mencoba lagi...\")\n",
        "                time.sleep(wait_time)\n",
        "            else:\n",
        "                print(f\"⚠️ Semua percobaan gagal untuk skor {score}\")\n",
        "                return []\n",
        "\n",
        "# Loop untuk setiap skor dari 1 sampai 5\n",
        "print(\"=\" * 60)\n",
        "print(\"MEMULAI PROSES SCRAPING DENGAN TARGET 10.000+ ULASAN\")\n",
        "print(\"=\" * 60)\n",
        "\n",
        "for score in range(1, 6):\n",
        "    print(f\"\\n{'='*50}\")\n",
        "    print(f\"SCRAPING ULASAN DENGAN SKOR: {score}\")\n",
        "    print(f\"{'='*50}\")\n",
        "    \n",
        "    # Scraping dengan retry mechanism\n",
        "    reviews_for_score = scrape_reviews_with_retry(app_id, score, target_per_score)\n",
        "    \n",
        "    if reviews_for_score:\n",
        "        # Menambahkan semua ulasan yang didapat untuk skor ini ke list utama\n",
        "        all_reviews.extend(reviews_for_score)\n",
        "        print(f\"📊 Total ulasan terkumpul sejauh ini: {len(all_reviews)}\")\n",
        "    \n",
        "    # Memberi jeda 15 detik sebelum lanjut ke skor berikutnya\n",
        "    print(\"⏳ Memberi jeda 15 detik...\")\n",
        "    time.sleep(15)\n",
        "\n",
        "print(f\"\\n{'='*60}\")\n",
        "print(\"PROSES SCRAPING SELESAI\")\n",
        "print(f\"{'='*60}\")\n",
        "print(f\"📊 Total ulasan yang berhasil dikumpulkan: {len(all_reviews)}\")\n",
        "\n",
        "# Validasi apakah sudah mencapai target minimum\n",
        "if len(all_reviews) >= 10000:\n",
        "    print(\"✅ TARGET 10.000+ ULASAN TERCAPAI!\")\n",
        "else:\n",
        "    print(f\"⚠️ Masih kurang {10000 - len(all_reviews)} ulasan dari target 10.000\")"
      ]
    },
    {
      "cell_type": "markdown",
      "metadata": {},
      "source": [
        "### **4. Konversi ke DataFrame dan Eksplorasi Awal**\n",
        "Setelah semua data terkumpul, mengubahnya menjadi format DataFrame menggunakan Pandas untuk mempermudah analisis dan penyimpanan, melakukan pengecekan awal."
      ]
    },
    {
      "cell_type": "code",
      "execution_count": 4,
      "metadata": {},
      "outputs": [
        {
          "name": "stdout",
          "output_type": "stream",
          "text": [
            "\n",
            "==================================================\n",
            "ANALISIS DATA HASIL SCRAPING\n",
            "==================================================\n",
            "\n",
            "📋 Informasi DataFrame:\n",
            "<class 'pandas.core.frame.DataFrame'>\n",
            "RangeIndex: 6974 entries, 0 to 6973\n",
            "Data columns (total 11 columns):\n",
            " #   Column                Non-Null Count  Dtype         \n",
            "---  ------                --------------  -----         \n",
            " 0   reviewId              6974 non-null   object        \n",
            " 1   userName              6974 non-null   object        \n",
            " 2   userImage             6974 non-null   object        \n",
            " 3   content               6974 non-null   object        \n",
            " 4   score                 6974 non-null   int64         \n",
            " 5   thumbsUpCount         6974 non-null   int64         \n",
            " 6   reviewCreatedVersion  5335 non-null   object        \n",
            " 7   at                    6974 non-null   datetime64[ns]\n",
            " 8   replyContent          6311 non-null   object        \n",
            " 9   repliedAt             6311 non-null   datetime64[ns]\n",
            " 10  appVersion            5335 non-null   object        \n",
            "dtypes: datetime64[ns](2), int64(2), object(7)\n",
            "memory usage: 599.5+ KB\n",
            "\n",
            "📊 Shape data: (6974, 11)\n",
            "📊 Total ulasan: 6974\n",
            "\n",
            "📈 Distribusi ulasan per skor:\n",
            "1    1670\n",
            "2     470\n",
            "3     791\n",
            "4    1043\n",
            "5    3000\n",
            "Name: score, dtype: int64\n",
            "\n",
            "🎯 Distribusi 3 kelas sentimen:\n",
            "positif    4043\n",
            "negatif    2140\n",
            "netral      791\n",
            "Name: sentiment, dtype: int64\n",
            "\n",
            "📋 5 baris pertama data:\n",
            "                                             content  score sentiment  \\\n",
            "0                                        susah login      1   negatif   \n",
            "1  Sangat memberatkan Pengelola/pemilik kos, masa...      1   negatif   \n",
            "2  sumpah memberatkan pemilik kost bgt si masa ma...      1   negatif   \n",
            "3  CHAT AJA HARUS AKTIFIN PAKET GOLDPLUS SERAKAH ...      1   negatif   \n",
            "4  udah langganan ny kemahalan . jawab konsumen s...      1   negatif   \n",
            "\n",
            "                   at  \n",
            "0 2025-06-05 10:55:16  \n",
            "1 2025-06-05 09:08:19  \n",
            "2 2025-06-02 22:23:53  \n",
            "3 2025-05-26 16:50:33  \n",
            "4 2025-05-24 08:31:19  \n",
            "\n",
            "🔍 VALIDASI KUALITAS DATA:\n",
            "- Data kosong pada kolom 'content': 0\n",
            "- Ulasan dengan content kosong: 0\n",
            "- Rata-rata panjang ulasan: 92.6 karakter\n",
            "- Ulasan terpendek: 1 karakter\n",
            "- Ulasan terpanjang: 695 karakter\n"
          ]
        }
      ],
      "source": [
        "# Mengubah list of dictionaries menjadi DataFrame\n",
        "df_reviews = pd.DataFrame(all_reviews)\n",
        "\n",
        "print(\"\\n\" + \"=\"*50)\n",
        "print(\"ANALISIS DATA HASIL SCRAPING\")\n",
        "print(\"=\"*50)\n",
        "\n",
        "# Menampilkan informasi dasar tentang DataFrame\n",
        "print(\"\\n📋 Informasi DataFrame:\")\n",
        "df_reviews.info()\n",
        "\n",
        "print(f\"\\n📊 Shape data: {df_reviews.shape}\")\n",
        "print(f\"📊 Total ulasan: {len(df_reviews)}\")\n",
        "\n",
        "# Mengecek distribusi jumlah ulasan per skor\n",
        "print(f\"\\n📈 Distribusi ulasan per skor:\")\n",
        "score_distribution = df_reviews['score'].value_counts().sort_index()\n",
        "print(score_distribution)\n",
        "\n",
        "# Mapping rating ke 3 kelas sentimen\n",
        "def map_rating_to_sentiment(rating):\n",
        "    \"\"\"\n",
        "    Mapping rating 1-5 ke 3 kelas sentimen:\n",
        "    - Rating 1-2: Negatif\n",
        "    - Rating 3: Netral  \n",
        "    - Rating 4-5: Positif\n",
        "    \"\"\"\n",
        "    if rating <= 2:\n",
        "        return 'negatif'\n",
        "    elif rating == 3:\n",
        "        return 'netral'\n",
        "    else:\n",
        "        return 'positif'\n",
        "\n",
        "# Tambahkan kolom sentimen\n",
        "df_reviews['sentiment'] = df_reviews['score'].apply(map_rating_to_sentiment)\n",
        "\n",
        "print(f\"\\n🎯 Distribusi 3 kelas sentimen:\")\n",
        "sentiment_distribution = df_reviews['sentiment'].value_counts()\n",
        "print(sentiment_distribution)\n",
        "\n",
        "# Menampilkan 5 baris pertama dari data\n",
        "print(f\"\\n📋 5 baris pertama data:\")\n",
        "print(df_reviews[['content', 'score', 'sentiment', 'at']].head())\n",
        "\n",
        "# Validasi kualitas data\n",
        "print(f\"\\n🔍 VALIDASI KUALITAS DATA:\")\n",
        "print(f\"- Data kosong pada kolom 'content': {df_reviews['content'].isnull().sum()}\")\n",
        "print(f\"- Ulasan dengan content kosong: {df_reviews['content'].str.strip().eq('').sum()}\")\n",
        "print(f\"- Rata-rata panjang ulasan: {df_reviews['content'].str.len().mean():.1f} karakter\")\n",
        "print(f\"- Ulasan terpendek: {df_reviews['content'].str.len().min()} karakter\")\n",
        "print(f\"- Ulasan terpanjang: {df_reviews['content'].str.len().max()} karakter\")"
      ]
    },
    {
      "cell_type": "markdown",
      "metadata": {},
      "source": [
        "### **5. Penyimpanan Dataset**\n",
        "Langkah terakhir adalah menyimpan DataFrame yang berisi data bersih ke dalam sebuah file `.csv`. File ini akan digunakan pada notebook selanjutnya untuk tahap preprocessing dan pemodelan."
      ]
    },
    {
      "cell_type": "code",
      "execution_count": 5,
      "metadata": {},
      "outputs": [
        {
          "name": "stdout",
          "output_type": "stream",
          "text": [
            "\n",
            "💾 Dataset berhasil disimpan sebagai 'dataset_mamikos_scraped_20250609_220446.csv'\n",
            "📁 Kolom yang disimpan: ['reviewId', 'userName', 'content', 'score', 'sentiment', 'thumbsUpCount', 'at', 'replyContent']\n",
            "\n",
            "============================================================\n",
            "RINGKASAN HASIL SCRAPING\n",
            "============================================================\n",
            "✅ Total data: 6,974 ulasan\n",
            "✅ Target minimum (10.000): BELUM TERCAPAI\n",
            "✅ 3 kelas sentimen: ['positif', 'negatif', 'netral']\n",
            "✅ Distribusi sentimen:\n",
            "   - Positif: 4,043 (58.0%)\n",
            "   - Negatif: 2,140 (30.7%)\n",
            "   - Netral: 791 (11.3%)\n",
            "\n",
            "🎉 Bagian 1 (Scraping) SELESAI!\n",
            "📝 Lanjut ke Bagian 2: Preprocessing & Training Model\n",
            "💾 Backup data disimpan sebagai 'dataset_mamikos_backup_20250609_220446.json'\n"
          ]
        }
      ],
      "source": [
        "# Simpan dengan informasi timestamp dan validasi\n",
        "current_time = datetime.now().strftime(\"%Y%m%d_%H%M%S\")\n",
        "output_filename = f'dataset_mamikos_scraped_{current_time}.csv'\n",
        "\n",
        "# Pilih kolom yang diperlukan untuk analisis sentimen\n",
        "columns_to_save = [\n",
        "    'reviewId', 'userName', 'content', 'score', 'sentiment', \n",
        "    'thumbsUpCount', 'at', 'replyContent'\n",
        "]\n",
        "\n",
        "# Menyimpan DataFrame ke file CSV\n",
        "df_reviews[columns_to_save].to_csv(output_filename, index=False)\n",
        "\n",
        "print(f\"\\n💾 Dataset berhasil disimpan sebagai '{output_filename}'\")\n",
        "print(f\"📁 Kolom yang disimpan: {columns_to_save}\")\n",
        "\n",
        "# Tampilkan ringkasan akhir untuk validasi\n",
        "print(f\"\\n{'='*60}\")\n",
        "print(\"RINGKASAN HASIL SCRAPING\")\n",
        "print(f\"{'='*60}\")\n",
        "print(f\"✅ Total data: {len(df_reviews):,} ulasan\")\n",
        "print(f\"✅ Target minimum (10.000): {'TERCAPAI' if len(df_reviews) >= 10000 else 'BELUM TERCAPAI'}\")\n",
        "print(f\"✅ 3 kelas sentimen: {list(sentiment_distribution.index)}\")\n",
        "print(f\"✅ Distribusi sentimen:\")\n",
        "for sentiment, count in sentiment_distribution.items():\n",
        "    percentage = (count / len(df_reviews)) * 100\n",
        "    print(f\"   - {sentiment.capitalize()}: {count:,} ({percentage:.1f}%)\")\n",
        "\n",
        "print(f\"\\n🎉 Bagian 1 (Scraping) SELESAI!\")\n",
        "print(f\"📝 Lanjut ke Bagian 2: Preprocessing & Training Model\")\n",
        "\n",
        "# Simpan juga file backup dalam format yang berbeda\n",
        "backup_filename = f'dataset_mamikos_backup_{current_time}.json'\n",
        "df_reviews[columns_to_save].to_json(backup_filename, orient='records', lines=True)\n",
        "print(f\"💾 Backup data disimpan sebagai '{backup_filename}'\")"
      ]
    }
  ],
  "metadata": {
    "colab": {
      "provenance": []
    },
    "kernelspec": {
      "display_name": "base",
      "language": "python",
      "name": "python3"
    },
    "language_info": {
      "codemirror_mode": {
        "name": "ipython",
        "version": 3
      },
      "file_extension": ".py",
      "mimetype": "text/x-python",
      "name": "python",
      "nbconvert_exporter": "python",
      "pygments_lexer": "ipython3",
      "version": "3.10.9"
    }
  },
  "nbformat": 4,
  "nbformat_minor": 0
}
