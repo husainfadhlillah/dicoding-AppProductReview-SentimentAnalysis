{
  "cells": [
    {
      "cell_type": "markdown",
      "metadata": {
        "id": "oaSBmttH8xx2"
      },
      "source": [
        "# **PROYEK ANALISIS SENTIMEN: SCRAPING DATA ULASAN APLIKASI MAMIKOS**"
      ]
    },
    {
      "cell_type": "markdown",
      "metadata": {
        "id": "WVOkI3FI8w7m"
      },
      "source": [
        "- **Nama:** Muhammad Husain Fadhlillah\n",
        "- **Email Student:** mc006d5y2343@student.devacademy.id\n",
        "- **Cohort ID:** MC006D5Y2343\n",
        "\n",
        "Notebook ini bertujuan untuk melakukan scraping data ulasan (reviews) dari aplikasi Mamikos di Google Play Store."
      ]
    },
    {
      "cell_type": "markdown",
      "metadata": {
        "id": "3B-ImQeU9df5"
      },
      "source": [
        "## **Bagian 1: Proses Pengumpulan Data dari Google Play Store**"
      ]
    },
    {
      "cell_type": "markdown",
      "metadata": {
        "id": "gqqCH-ys9gn8"
      },
      "source": [
        "### 1. Instalasi dan Import Library\n",
        "Tahap pertama adalah mempersiapkan semua library yang dibutuhkan untuk proses scraping data."
      ]
    },
    {
      "cell_type": "code",
      "execution_count": 1,
      "metadata": {
        "id": "ibvs660LxqZ-"
      },
      "outputs": [
        {
          "name": "stdout",
          "output_type": "stream",
          "text": [
            "Collecting google-play-scraper\n",
            "  Downloading google_play_scraper-1.2.7-py3-none-any.whl.metadata (50 kB)\n",
            "Downloading google_play_scraper-1.2.7-py3-none-any.whl (28 kB)\n",
            "Installing collected packages: google-play-scraper\n",
            "Successfully installed google-play-scraper-1.2.7\n",
            "Note: you may need to restart the kernel to use updated packages.\n"
          ]
        },
        {
          "name": "stderr",
          "output_type": "stream",
          "text": [
            "WARNING: Ignoring invalid distribution -orch (d:\\anaconda\\lib\\site-packages)\n",
            "WARNING: Ignoring invalid distribution -orch (d:\\anaconda\\lib\\site-packages)\n",
            "WARNING: Ignoring invalid distribution -orch (d:\\anaconda\\lib\\site-packages)\n",
            "\n",
            "[notice] A new release of pip is available: 25.0.1 -> 25.1.1\n",
            "[notice] To update, run: python.exe -m pip install --upgrade pip\n"
          ]
        },
        {
          "name": "stdout",
          "output_type": "stream",
          "text": [
            "Library berhasil diimport.\n"
          ]
        }
      ],
      "source": [
        "# Instalasi library google-play-scraper\n",
        "%pip install google-play-scraper\n",
        "\n",
        "# Import library yang diperlukan\n",
        "import pandas as pd\n",
        "import numpy as np\n",
        "import os\n",
        "import time\n",
        "from google_play_scraper import reviews, Sort\n",
        "\n",
        "# Untuk mengabaikan peringatan\n",
        "import warnings\n",
        "warnings.filterwarnings('ignore')\n",
        "\n",
        "print(\"Library berhasil diimport.\")"
      ]
    },
    {
      "cell_type": "markdown",
      "metadata": {
        "id": "E3oSbkCU-UTr"
      },
      "source": []
    },
    {
      "cell_type": "markdown",
      "metadata": {
        "id": "pLadyast9oo3"
      },
      "source": [
        "### 2. Penentuan Parameter Scraping\n",
        "Menentukan ID aplikasi \"Mamikos\" dan jumlah data yang ingin diambil untuk setiap kategori skor. Tujuannya adalah untuk mendapatkan dataset yang seimbang (balanced) untuk menghindari bias pada data."
      ]
    },
    {
      "cell_type": "code",
      "execution_count": 2,
      "metadata": {
        "id": "Yltn-rDf9-zc"
      },
      "outputs": [
        {
          "name": "stdout",
          "output_type": "stream",
          "text": [
            "Target scraping untuk aplikasi: com.git.mami.kos\n",
            "Jumlah ulasan per skor: 2100\n"
          ]
        }
      ],
      "source": [
        "# ID aplikasi Mamikos di Google Play Store\n",
        "app_id = 'com.git.mami.kos'\n",
        "\n",
        "# Jumlah ulasan yang akan di-scrape per kategori skor\n",
        "# Target adalah >10.000 data, maka ambil 2100 per skor (2100 * 5 = 10.500)\n",
        "count_per_score = 2100\n",
        "\n",
        "print(f\"Target scraping untuk aplikasi: {app_id}\")\n",
        "print(f\"Jumlah ulasan per skor: {count_per_score}\")"
      ]
    },
    {
      "cell_type": "markdown",
      "metadata": {
        "id": "n5s3KitH-TpI"
      },
      "source": []
    },
    {
      "cell_type": "markdown",
      "metadata": {
        "id": "r80vhz7M-PlJ"
      },
      "source": [
        "### 3. Proses Scraping Data (Balanced Score)\n",
        "Proses ini akan melakukan iterasi untuk setiap skor (1-5) dan mengambil ulasan sesuai jumlah yang telah ditentukan. Menggunakan fungsi `reviews` yang memungkinkan filter berdasarkan skor."
      ]
    },
    {
      "cell_type": "code",
      "execution_count": 3,
      "metadata": {
        "id": "M4nb2vs7-TK_"
      },
      "outputs": [
        {
          "name": "stdout",
          "output_type": "stream",
          "text": [
            "--- Scraping ulasan untuk skor: 1 ---\n",
            "Berhasil mendapatkan 1670 ulasan untuk skor 1.\n",
            "--- Scraping ulasan untuk skor: 2 ---\n",
            "Berhasil mendapatkan 470 ulasan untuk skor 2.\n",
            "--- Scraping ulasan untuk skor: 3 ---\n",
            "Berhasil mendapatkan 791 ulasan untuk skor 3.\n",
            "--- Scraping ulasan untuk skor: 4 ---\n",
            "Berhasil mendapatkan 1043 ulasan untuk skor 4.\n",
            "--- Scraping ulasan untuk skor: 5 ---\n",
            "Berhasil mendapatkan 2100 ulasan untuk skor 5.\n",
            "\n",
            "Total ulasan yang berhasil di-scrape: 6074\n"
          ]
        }
      ],
      "source": [
        "# List untuk menampung semua hasil scraping\n",
        "all_reviews_list = []\n",
        "\n",
        "# Loop untuk setiap skor dari 1 sampai 5\n",
        "for score in range(1, 6):\n",
        "    print(f\"--- Scraping ulasan untuk skor: {score} ---\")\n",
        "    try:\n",
        "        # Mengambil ulasan dengan filter skor\n",
        "        result, _ = reviews(\n",
        "            app_id,\n",
        "            lang='id',                # Bahasa Indonesia\n",
        "            country='id',             # Negara Indonesia\n",
        "            sort=Sort.MOST_RELEVANT,  # Urutkan berdasarkan relevansi\n",
        "            count=count_per_score,    # Jumlah ulasan per skor\n",
        "            filter_score_with=score   # Filter berdasarkan skor\n",
        "        )\n",
        "\n",
        "        # Menambahkan informasi skor ke setiap ulasan\n",
        "        for r in result:\n",
        "            r['score_category'] = score # Tambahkan kolom baru untuk skor\n",
        "\n",
        "        all_reviews_list.extend(result)\n",
        "        print(f\"Berhasil mendapatkan {len(result)} ulasan untuk skor {score}.\")\n",
        "\n",
        "    except Exception as e:\n",
        "        print(f\"Terjadi error saat scraping skor {score}: {e}\")\n",
        "\n",
        "    # Beri jeda untuk menghindari blokir dari server\n",
        "    time.sleep(2)\n",
        "\n",
        "print(f\"\\nTotal ulasan yang berhasil di-scrape: {len(all_reviews_list)}\")"
      ]
    },
    {
      "cell_type": "markdown",
      "metadata": {
        "id": "MetnJyX--Sjc"
      },
      "source": []
    },
    {
      "cell_type": "markdown",
      "metadata": {
        "id": "w2_my8Af-z9E"
      },
      "source": [
        "### 4. Konversi ke DataFrame dan Eksplorasi Awal\n",
        "Hasil scraping yang berupa list of dictionaries akan diubah menjadi DataFrame Pandas untuk kemudahan analisis. Melakukan pengecekan awal untuk memastikan data sesuai harapan."
      ]
    },
    {
      "cell_type": "code",
      "execution_count": 4,
      "metadata": {
        "id": "_ZexTWUL-5x9"
      },
      "outputs": [
        {
          "name": "stdout",
          "output_type": "stream",
          "text": [
            "Informasi DataFrame:\n",
            "<class 'pandas.core.frame.DataFrame'>\n",
            "RangeIndex: 6074 entries, 0 to 6073\n",
            "Data columns (total 12 columns):\n",
            " #   Column                Non-Null Count  Dtype         \n",
            "---  ------                --------------  -----         \n",
            " 0   reviewId              6074 non-null   object        \n",
            " 1   userName              6074 non-null   object        \n",
            " 2   userImage             6074 non-null   object        \n",
            " 3   content               6074 non-null   object        \n",
            " 4   score                 6074 non-null   int64         \n",
            " 5   thumbsUpCount         6074 non-null   int64         \n",
            " 6   reviewCreatedVersion  4700 non-null   object        \n",
            " 7   at                    6074 non-null   datetime64[ns]\n",
            " 8   replyContent          5535 non-null   object        \n",
            " 9   repliedAt             5535 non-null   datetime64[ns]\n",
            " 10  appVersion            4700 non-null   object        \n",
            " 11  score_category        6074 non-null   int64         \n",
            "dtypes: datetime64[ns](2), int64(3), object(7)\n",
            "memory usage: 569.6+ KB\n",
            "\n",
            "Contoh 5 baris pertama data:\n"
          ]
        },
        {
          "data": {
            "application/vnd.microsoft.datawrangler.viewer.v0+json": {
              "columns": [
                {
                  "name": "index",
                  "rawType": "int64",
                  "type": "integer"
                },
                {
                  "name": "reviewId",
                  "rawType": "object",
                  "type": "string"
                },
                {
                  "name": "userName",
                  "rawType": "object",
                  "type": "string"
                },
                {
                  "name": "userImage",
                  "rawType": "object",
                  "type": "string"
                },
                {
                  "name": "content",
                  "rawType": "object",
                  "type": "string"
                },
                {
                  "name": "score",
                  "rawType": "int64",
                  "type": "integer"
                },
                {
                  "name": "thumbsUpCount",
                  "rawType": "int64",
                  "type": "integer"
                },
                {
                  "name": "reviewCreatedVersion",
                  "rawType": "object",
                  "type": "string"
                },
                {
                  "name": "at",
                  "rawType": "datetime64[ns]",
                  "type": "datetime"
                },
                {
                  "name": "replyContent",
                  "rawType": "object",
                  "type": "string"
                },
                {
                  "name": "repliedAt",
                  "rawType": "datetime64[ns]",
                  "type": "datetime"
                },
                {
                  "name": "appVersion",
                  "rawType": "object",
                  "type": "string"
                },
                {
                  "name": "score_category",
                  "rawType": "int64",
                  "type": "integer"
                }
              ],
              "ref": "fa92e9cc-9375-4cb7-a76f-e40d4448507e",
              "rows": [
                [
                  "0",
                  "738b1d1d-b23c-4ec8-9f7c-3f5d936924b9",
                  "Akun Smurf",
                  "https://play-lh.googleusercontent.com/a/ACg8ocIo28YqA5xFqiV1WkWahV07WI_zYQyu6YMHGIZYfJKcSnpnHA=mo",
                  "Cari uang kok dengan memberatkan pemilik kost. Pemilik kost itu juga banyak yang pas2an. Tampilin nomor di catatan kost ga bisa, tampilin alamat juga ga bisa. Dulu kuota chat bilang tiap Minggu. sekarang cuma tanggal 1 dan tgl 15. tekan terus aja pemilik kost dengan suruh membayar Langganan gold plus mu itu.",
                  "1",
                  "32",
                  "25.18.0",
                  "2025-05-13 14:08:32",
                  "Halo bapak/ibu mohon maaf atas ketidaknyamanannya. Terkait kendala yang dialami dapat dikonsultasikan kepada CS melalui WhatsApp 081325111171 agar dapat dibantu lebih cepat untuk proses update datanya. Terima kasih",
                  "2025-05-18 13:18:32",
                  "25.18.0",
                  "1"
                ],
                [
                  "1",
                  "37e14345-895d-4a48-b1c8-a8871c303696",
                  "Felix Andri",
                  "https://play-lh.googleusercontent.com/a-/ALV-UjVAJv2BPHFCLDDT-xiN8RRM5wHfIHm72NJckUeLta9WOdPWLu9v",
                  "Ada banyak notif pesan yg perlu dibalas, begitu beli paket mamikos gold hasil nya tidak ada 1 pesan pun yg masuk. Curhat ke CS mami kos hanya di baca doank tanpa kejelasan. Sedikit dirugikan aja. Mau stop penggunaan nunggu paket iklan habis dulu. Sepi cuma boros beli paket. parah",
                  "1",
                  "33",
                  "25.13.0",
                  "2025-04-05 11:10:11",
                  "Halo, Pak/Bu, Mohon maaf atas ketidaknyamanan yang dialami. Mohon dapat melampirkan screenshot kendala yang dialami ke nomor CS Mamikos 081325111171 untuk memudahkan kami dalam melakukan pengecekkan Mohon dukungannya dengan update rating ya Pak/Bu, agar kami bisa meningkatkan layanan.Terima kasih",
                  "2025-02-17 22:36:10",
                  "25.13.0",
                  "1"
                ],
                [
                  "2",
                  "3c96eaa6-885b-49dc-bc85-d0ff7cb13493",
                  "Jhon Connor",
                  "https://play-lh.googleusercontent.com/a/ACg8ocL4HiZ49pf0DOLxIRpE-ekhNCRi_CO8yVDozB_1ZNS_sQOJjg=mo",
                  "Saya udah beli gold plus tetap aja sepi!, belum lagi ada tangan² setan yang merubah data² kos saya, contoh yang saya alami kost diperbolehkan untuk pasutri dirubah jadi bukan untuk pasutri??",
                  "1",
                  "17",
                  "25.16.0",
                  "2025-05-10 18:33:50",
                  "Halo, Pak/Bu mohon maaf atas ketidaknyamanan yang dialami. Apabila Bapak/Ibu memiliki keluhan/saran, dapat langsung disampaikan melalui email cs@mamikos.com atau WA ke 081325111171. Mohon dukungannya dengan update rating ya Kak, agar kami bisa meningkatkan layanan. Terima kasih",
                  "2025-05-11 00:52:16",
                  "25.16.0",
                  "1"
                ],
                [
                  "3",
                  "ed9d60da-6341-412b-86f5-a5350675e442",
                  "susi suswati wati",
                  "https://play-lh.googleusercontent.com/a-/ALV-UjVhN-3QJTQUdUiKAbAWZeH__T0S5LcZvK6eIO9toCa15VFVOIE",
                  "aplikasi ini skrg memberatkan pemilik kost,bayarnya tambah mahal ,kl GK dibayar GK bs balas chat pencari kost",
                  "1",
                  "4",
                  "25.20.0",
                  "2025-05-23 12:37:13",
                  null,
                  null,
                  "25.20.0",
                  "1"
                ],
                [
                  "4",
                  "01e4057c-f189-4ad7-990b-607cfbb10bfd",
                  "Andhika Fajar Ismail",
                  "https://play-lh.googleusercontent.com/a-/ALV-UjXU4L7Es6_5F31b3XsLTYoEMg20m-iIRK3iWNJZOVfTpPmPkhY",
                  "Setelah taro nomor telpon di mamikos banyak yg spam telponin saya berupa pinjol atau penipuan. Ini user data anda yg bocor atau emang ada karyawan yang double job sebagai lembaga lain? sungguh tidak menyenangkan kecewa saya",
                  "1",
                  "1",
                  "25.18.0",
                  "2025-05-19 17:20:17",
                  null,
                  null,
                  "25.18.0",
                  "1"
                ]
              ],
              "shape": {
                "columns": 12,
                "rows": 5
              }
            },
            "text/html": [
              "<div>\n",
              "<style scoped>\n",
              "    .dataframe tbody tr th:only-of-type {\n",
              "        vertical-align: middle;\n",
              "    }\n",
              "\n",
              "    .dataframe tbody tr th {\n",
              "        vertical-align: top;\n",
              "    }\n",
              "\n",
              "    .dataframe thead th {\n",
              "        text-align: right;\n",
              "    }\n",
              "</style>\n",
              "<table border=\"1\" class=\"dataframe\">\n",
              "  <thead>\n",
              "    <tr style=\"text-align: right;\">\n",
              "      <th></th>\n",
              "      <th>reviewId</th>\n",
              "      <th>userName</th>\n",
              "      <th>userImage</th>\n",
              "      <th>content</th>\n",
              "      <th>score</th>\n",
              "      <th>thumbsUpCount</th>\n",
              "      <th>reviewCreatedVersion</th>\n",
              "      <th>at</th>\n",
              "      <th>replyContent</th>\n",
              "      <th>repliedAt</th>\n",
              "      <th>appVersion</th>\n",
              "      <th>score_category</th>\n",
              "    </tr>\n",
              "  </thead>\n",
              "  <tbody>\n",
              "    <tr>\n",
              "      <th>0</th>\n",
              "      <td>738b1d1d-b23c-4ec8-9f7c-3f5d936924b9</td>\n",
              "      <td>Akun Smurf</td>\n",
              "      <td>https://play-lh.googleusercontent.com/a/ACg8oc...</td>\n",
              "      <td>Cari uang kok dengan memberatkan pemilik kost....</td>\n",
              "      <td>1</td>\n",
              "      <td>32</td>\n",
              "      <td>25.18.0</td>\n",
              "      <td>2025-05-13 14:08:32</td>\n",
              "      <td>Halo bapak/ibu mohon maaf atas ketidaknyamanan...</td>\n",
              "      <td>2025-05-18 13:18:32</td>\n",
              "      <td>25.18.0</td>\n",
              "      <td>1</td>\n",
              "    </tr>\n",
              "    <tr>\n",
              "      <th>1</th>\n",
              "      <td>37e14345-895d-4a48-b1c8-a8871c303696</td>\n",
              "      <td>Felix Andri</td>\n",
              "      <td>https://play-lh.googleusercontent.com/a-/ALV-U...</td>\n",
              "      <td>Ada banyak notif pesan yg perlu dibalas, begit...</td>\n",
              "      <td>1</td>\n",
              "      <td>33</td>\n",
              "      <td>25.13.0</td>\n",
              "      <td>2025-04-05 11:10:11</td>\n",
              "      <td>Halo, Pak/Bu, Mohon maaf atas ketidaknyamanan ...</td>\n",
              "      <td>2025-02-17 22:36:10</td>\n",
              "      <td>25.13.0</td>\n",
              "      <td>1</td>\n",
              "    </tr>\n",
              "    <tr>\n",
              "      <th>2</th>\n",
              "      <td>3c96eaa6-885b-49dc-bc85-d0ff7cb13493</td>\n",
              "      <td>Jhon Connor</td>\n",
              "      <td>https://play-lh.googleusercontent.com/a/ACg8oc...</td>\n",
              "      <td>Saya udah beli gold plus tetap aja sepi!, belu...</td>\n",
              "      <td>1</td>\n",
              "      <td>17</td>\n",
              "      <td>25.16.0</td>\n",
              "      <td>2025-05-10 18:33:50</td>\n",
              "      <td>Halo, Pak/Bu mohon maaf atas ketidaknyamanan y...</td>\n",
              "      <td>2025-05-11 00:52:16</td>\n",
              "      <td>25.16.0</td>\n",
              "      <td>1</td>\n",
              "    </tr>\n",
              "    <tr>\n",
              "      <th>3</th>\n",
              "      <td>ed9d60da-6341-412b-86f5-a5350675e442</td>\n",
              "      <td>susi suswati wati</td>\n",
              "      <td>https://play-lh.googleusercontent.com/a-/ALV-U...</td>\n",
              "      <td>aplikasi ini skrg memberatkan pemilik kost,bay...</td>\n",
              "      <td>1</td>\n",
              "      <td>4</td>\n",
              "      <td>25.20.0</td>\n",
              "      <td>2025-05-23 12:37:13</td>\n",
              "      <td>None</td>\n",
              "      <td>NaT</td>\n",
              "      <td>25.20.0</td>\n",
              "      <td>1</td>\n",
              "    </tr>\n",
              "    <tr>\n",
              "      <th>4</th>\n",
              "      <td>01e4057c-f189-4ad7-990b-607cfbb10bfd</td>\n",
              "      <td>Andhika Fajar Ismail</td>\n",
              "      <td>https://play-lh.googleusercontent.com/a-/ALV-U...</td>\n",
              "      <td>Setelah taro nomor telpon di mamikos banyak yg...</td>\n",
              "      <td>1</td>\n",
              "      <td>1</td>\n",
              "      <td>25.18.0</td>\n",
              "      <td>2025-05-19 17:20:17</td>\n",
              "      <td>None</td>\n",
              "      <td>NaT</td>\n",
              "      <td>25.18.0</td>\n",
              "      <td>1</td>\n",
              "    </tr>\n",
              "  </tbody>\n",
              "</table>\n",
              "</div>"
            ],
            "text/plain": [
              "                               reviewId              userName  \\\n",
              "0  738b1d1d-b23c-4ec8-9f7c-3f5d936924b9            Akun Smurf   \n",
              "1  37e14345-895d-4a48-b1c8-a8871c303696           Felix Andri   \n",
              "2  3c96eaa6-885b-49dc-bc85-d0ff7cb13493           Jhon Connor   \n",
              "3  ed9d60da-6341-412b-86f5-a5350675e442     susi suswati wati   \n",
              "4  01e4057c-f189-4ad7-990b-607cfbb10bfd  Andhika Fajar Ismail   \n",
              "\n",
              "                                           userImage  \\\n",
              "0  https://play-lh.googleusercontent.com/a/ACg8oc...   \n",
              "1  https://play-lh.googleusercontent.com/a-/ALV-U...   \n",
              "2  https://play-lh.googleusercontent.com/a/ACg8oc...   \n",
              "3  https://play-lh.googleusercontent.com/a-/ALV-U...   \n",
              "4  https://play-lh.googleusercontent.com/a-/ALV-U...   \n",
              "\n",
              "                                             content  score  thumbsUpCount  \\\n",
              "0  Cari uang kok dengan memberatkan pemilik kost....      1             32   \n",
              "1  Ada banyak notif pesan yg perlu dibalas, begit...      1             33   \n",
              "2  Saya udah beli gold plus tetap aja sepi!, belu...      1             17   \n",
              "3  aplikasi ini skrg memberatkan pemilik kost,bay...      1              4   \n",
              "4  Setelah taro nomor telpon di mamikos banyak yg...      1              1   \n",
              "\n",
              "  reviewCreatedVersion                  at  \\\n",
              "0              25.18.0 2025-05-13 14:08:32   \n",
              "1              25.13.0 2025-04-05 11:10:11   \n",
              "2              25.16.0 2025-05-10 18:33:50   \n",
              "3              25.20.0 2025-05-23 12:37:13   \n",
              "4              25.18.0 2025-05-19 17:20:17   \n",
              "\n",
              "                                        replyContent           repliedAt  \\\n",
              "0  Halo bapak/ibu mohon maaf atas ketidaknyamanan... 2025-05-18 13:18:32   \n",
              "1  Halo, Pak/Bu, Mohon maaf atas ketidaknyamanan ... 2025-02-17 22:36:10   \n",
              "2  Halo, Pak/Bu mohon maaf atas ketidaknyamanan y... 2025-05-11 00:52:16   \n",
              "3                                               None                 NaT   \n",
              "4                                               None                 NaT   \n",
              "\n",
              "  appVersion  score_category  \n",
              "0    25.18.0               1  \n",
              "1    25.13.0               1  \n",
              "2    25.16.0               1  \n",
              "3    25.20.0               1  \n",
              "4    25.18.0               1  "
            ]
          },
          "metadata": {},
          "output_type": "display_data"
        },
        {
          "name": "stdout",
          "output_type": "stream",
          "text": [
            "\n",
            "Distribusi jumlah ulasan berdasarkan skor:\n",
            "5    2100\n",
            "1    1670\n",
            "4    1043\n",
            "3     791\n",
            "2     470\n",
            "Name: score, dtype: int64\n"
          ]
        }
      ],
      "source": [
        "# Konversi list ke DataFrame\n",
        "df_reviews = pd.DataFrame(all_reviews_list)\n",
        "\n",
        "# Tampilkan informasi dasar DataFrame\n",
        "print(\"Informasi DataFrame:\")\n",
        "df_reviews.info()\n",
        "\n",
        "# Tampilkan 5 baris pertama\n",
        "print(\"\\nContoh 5 baris pertama data:\")\n",
        "display(df_reviews.head())\n",
        "\n",
        "# Cek distribusi skor untuk memastikan data seimbang\n",
        "print(\"\\nDistribusi jumlah ulasan berdasarkan skor:\")\n",
        "print(df_reviews['score'].value_counts())"
      ]
    },
    {
      "cell_type": "markdown",
      "metadata": {
        "id": "2Fv3zYf_-_Ej"
      },
      "source": []
    },
    {
      "cell_type": "markdown",
      "metadata": {
        "id": "6y5u6XNe-_X7"
      },
      "source": [
        "### 5. Penyimpanan Dataset\n",
        "Dataset yang sudah menjadi DataFrame akan dsimpan ke dalam format file `.csv` untuk digunakan pada tahap selanjutnya (preprocessing dan pemodelan)."
      ]
    },
    {
      "cell_type": "code",
      "execution_count": 5,
      "metadata": {
        "id": "d2zfHeKv_Cmd"
      },
      "outputs": [
        {
          "name": "stdout",
          "output_type": "stream",
          "text": [
            "Dataset berhasil disimpan di: dataset/dataset_mamikos_reviews.csv\n"
          ]
        }
      ],
      "source": [
        "# Membuat direktori 'dataset'\n",
        "if not os.path.exists('dataset'):\n",
        "    os.makedirs('dataset')\n",
        "\n",
        "# Menentukan path file\n",
        "output_path = 'dataset/dataset_mamikos_reviews.csv'\n",
        "\n",
        "# Menyimpan DataFrame ke file CSV\n",
        "df_reviews.to_csv(output_path, index=False)\n",
        "\n",
        "print(f\"Dataset berhasil disimpan di: {output_path}\")"
      ]
    },
    {
      "cell_type": "markdown",
      "metadata": {},
      "source": []
    }
  ],
  "metadata": {
    "colab": {
      "provenance": []
    },
    "kernelspec": {
      "display_name": "base",
      "language": "python",
      "name": "python3"
    },
    "language_info": {
      "codemirror_mode": {
        "name": "ipython",
        "version": 3
      },
      "file_extension": ".py",
      "mimetype": "text/x-python",
      "name": "python",
      "nbconvert_exporter": "python",
      "pygments_lexer": "ipython3",
      "version": "3.10.9"
    }
  },
  "nbformat": 4,
  "nbformat_minor": 0
}
