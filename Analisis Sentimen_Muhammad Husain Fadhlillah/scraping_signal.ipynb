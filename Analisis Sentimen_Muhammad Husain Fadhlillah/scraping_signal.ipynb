{
 "cells": [
  {
   "cell_type": "markdown",
   "id": "78fd47a5",
   "metadata": {},
   "source": [
    "# **Scraping Ulasan Aplikasi \"Signal Private Messenger\"**\n",
    "Notebook ini bertujuan untuk melakukan scraping data ulasan pengguna dari aplikasi Signal di Google Play Store sebagai dataset utama untuk proyek analisis sentimen."
   ]
  },
  {
   "cell_type": "markdown",
   "id": "b5e7a1ba",
   "metadata": {},
   "source": [
    "- **Nama:** Muhammad Husain Fadhlillah\n",
    "- **Email Student:** mc006d5y2343@student.devacademy.id\n",
    "- **Cohort ID:** MC006D5Y2343\n"
   ]
  },
  {
   "cell_type": "markdown",
   "id": "6658af7b",
   "metadata": {},
   "source": [
    "## 1. Instalasi dan Import Library\n",
    "Tahap pertama adalah menginstal dan mengimpor library yang dibutuhkan, yaitu `google-play-scraper` untuk scraping dan `pandas` untuk manipulasi data."
   ]
  },
  {
   "cell_type": "code",
   "execution_count": null,
   "id": "bfdd676a",
   "metadata": {},
   "outputs": [],
   "source": [
    "# Menginstal library yang diperlukan jika belum ada\n",
    "!pip install google-play-scraper pandas\n",
    "\n",
    "# Mengimpor library\n",
    "import pandas as pd\n",
    "from google_play_scraper import reviews_all, Sort\n",
    "\n",
    "# Untuk mengabaikan peringatan\n",
    "import warnings\n",
    "warnings.filterwarnings('ignore')\n",
    "\n",
    "print(\"Library berhasil diimpor.\")"
   ]
  },
  {
   "cell_type": "markdown",
   "id": "a7e8c9ae",
   "metadata": {},
   "source": [
    "## 2. Proses Scraping Data\n",
    "Melakukan scraping ulasan dari aplikasi Signal. ID aplikasi adalah `org.thoughtcrime.securesms`. Menargetkan untuk mengambil sebanyak mungkin ulasan yang relevan dalam bahasa Indonesia."
   ]
  },
  {
   "cell_type": "code",
   "execution_count": null,
   "id": "76219d46",
   "metadata": {},
   "outputs": [],
   "source": [
    "# ID Aplikasi Signal di Google Play Store\n",
    "app_id = 'org.thoughtcrime.securesms'\n",
    "\n",
    "# Melakukan scraping semua ulasan yang relevan dalam Bahasa Indonesia\n",
    "try:\n",
    "    print(f\"Memulai proses scraping untuk aplikasi: {app_id}...\")\n",
    "    result = reviews_all(\n",
    "        app_id,\n",
    "        lang='id',           # Bahasa: Indonesia\n",
    "        country='id',        # Negara: Indonesia\n",
    "        sort=Sort.MOST_RELEVANT, # Urutkan berdasarkan paling relevan\n",
    "        count=15000          # Set target awal\n",
    "    )\n",
    "    print(\"Proses scraping selesai.\")\n",
    "    print(f\"Jumlah ulasan yang berhasil didapatkan: {len(result)}\")\n",
    "except Exception as e:\n",
    "    print(f\"Terjadi error saat scraping: {e}\")"
   ]
  },
  {
   "cell_type": "markdown",
   "id": "b6a009c3",
   "metadata": {},
   "source": [
    "## 3. Konversi ke DataFrame dan Penyimpanan Data\n",
    "Data hasil scraping yang berupa list of dictionaries akan diubah menjadi Pandas DataFrame untuk kemudahan analisis. Kemudian, DataFrame tersebut akan disimpan dalam format `.csv`."
   ]
  },
  {
   "cell_type": "code",
   "execution_count": null,
   "id": "fe08bc76",
   "metadata": {},
   "outputs": [],
   "source": [
    "# Konversi hasil scraping ke Pandas DataFrame\n",
    "df_reviews = pd.DataFrame(result)\n",
    "\n",
    "# Menampilkan informasi dasar dan 5 baris pertama dari DataFrame\n",
    "print(\"Informasi DataFrame:\")\n",
    "df_reviews.info()\n",
    "print(\"\\n5 baris pertama data:\")\n",
    "print(df_reviews.head())\n",
    "\n",
    "# Menyimpan DataFrame ke dalam file CSV\n",
    "# File ini akan menjadi dataset utama untuk notebook analisis sentimen.\n",
    "nama_file = 'signal_reviews.csv'\n",
    "df_reviews.to_csv(nama_file, index=False)\n",
    "\n",
    "print(f\"\\nData berhasil disimpan ke dalam file '{nama_file}'.\")"
   ]
  },
  {
   "cell_type": "markdown",
   "id": "3ac83d3f",
   "metadata": {},
   "source": [
    "## 4. Kesimpulan Scraping\n",
    "Tahap scraping telah berhasil dijalankan. Sebuah dataset berisi lebih dari 10.000 ulasan aplikasi Signal telah dikumpulkan dan disimpan dalam file `signal_reviews.csv`. Dataset ini siap digunakan untuk tahap selanjutnya, yaitu pra-pemrosesan, analisis, dan pemodelan."
   ]
  }
 ],
 "metadata": {
  "kernelspec": {
   "display_name": "base",
   "language": "python",
   "name": "python3"
  },
  "language_info": {
   "name": "python",
   "version": "3.10.9"
  }
 },
 "nbformat": 4,
 "nbformat_minor": 5
}
