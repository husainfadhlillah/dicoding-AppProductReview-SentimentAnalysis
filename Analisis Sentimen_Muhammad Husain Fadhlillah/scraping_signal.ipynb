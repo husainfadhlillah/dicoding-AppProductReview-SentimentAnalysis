{
 "cells": [
  {
   "cell_type": "markdown",
   "id": "78fd47a5",
   "metadata": {},
   "source": [
    "# **Scraping Ulasan Aplikasi \"Signal Private Messenger\"**\n",
    "Notebook ini bertujuan untuk melakukan scraping data ulasan pengguna dari aplikasi Signal di Google Play Store sebagai dataset utama untuk proyek analisis sentimen."
   ]
  },
  {
   "cell_type": "markdown",
   "id": "b5e7a1ba",
   "metadata": {},
   "source": [
    "- **Nama:** Muhammad Husain Fadhlillah\n",
    "- **Email Student:** mc006d5y2343@student.devacademy.id\n",
    "- **Cohort ID:** MC006D5Y2343\n"
   ]
  },
  {
   "cell_type": "markdown",
   "id": "6658af7b",
   "metadata": {},
   "source": [
    "## 1. Instalasi dan Import Library\n",
    "Tahap pertama adalah menginstal dan mengimpor library yang dibutuhkan, yaitu `google-play-scraper` untuk scraping dan `pandas` untuk manipulasi data."
   ]
  },
  {
   "cell_type": "code",
   "execution_count": 1,
   "id": "bfdd676a",
   "metadata": {},
   "outputs": [
    {
     "name": "stderr",
     "output_type": "stream",
     "text": [
      "WARNING: Ignoring invalid distribution -orch (d:\\anaconda\\lib\\site-packages)\n",
      "WARNING: Ignoring invalid distribution -orch (d:\\anaconda\\lib\\site-packages)\n",
      "WARNING: Ignoring invalid distribution -orch (d:\\anaconda\\lib\\site-packages)\n",
      "\n",
      "[notice] A new release of pip is available: 25.0.1 -> 25.1.1\n",
      "[notice] To update, run: python.exe -m pip install --upgrade pip\n"
     ]
    },
    {
     "name": "stdout",
     "output_type": "stream",
     "text": [
      "Requirement already satisfied: google-play-scraper in d:\\anaconda\\lib\\site-packages (1.2.7)\n",
      "Requirement already satisfied: pandas in d:\\anaconda\\lib\\site-packages (1.5.3)\n",
      "Requirement already satisfied: python-dateutil>=2.8.1 in d:\\anaconda\\lib\\site-packages (from pandas) (2.8.2)\n",
      "Requirement already satisfied: pytz>=2020.1 in d:\\anaconda\\lib\\site-packages (from pandas) (2022.7)\n",
      "Requirement already satisfied: numpy>=1.21.0 in d:\\anaconda\\lib\\site-packages (from pandas) (1.23.5)\n",
      "Requirement already satisfied: six>=1.5 in d:\\anaconda\\lib\\site-packages (from python-dateutil>=2.8.1->pandas) (1.16.0)\n",
      "Note: you may need to restart the kernel to use updated packages.\n",
      "Library berhasil diimpor.\n"
     ]
    }
   ],
   "source": [
    "# Menginstal library yang diperlukan jika belum ada\n",
    "%pip install google-play-scraper pandas\n",
    "\n",
    "# Mengimpor library\n",
    "import pandas as pd\n",
    "from google_play_scraper import reviews_all, Sort\n",
    "\n",
    "# Untuk mengabaikan peringatan\n",
    "import warnings\n",
    "warnings.filterwarnings('ignore')\n",
    "\n",
    "print(\"Library berhasil diimpor.\")"
   ]
  },
  {
   "cell_type": "markdown",
   "id": "a7e8c9ae",
   "metadata": {},
   "source": [
    "## 2. Proses Scraping Data\n",
    "Melakukan scraping ulasan dari aplikasi Signal. ID aplikasi adalah `org.thoughtcrime.securesms`. Menargetkan untuk mengambil sebanyak mungkin ulasan yang relevan dalam bahasa Indonesia."
   ]
  },
  {
   "cell_type": "code",
   "execution_count": 2,
   "id": "76219d46",
   "metadata": {},
   "outputs": [
    {
     "name": "stdout",
     "output_type": "stream",
     "text": [
      "Memulai proses scraping untuk aplikasi: org.thoughtcrime.securesms...\n",
      "Proses scraping selesai.\n",
      "Jumlah ulasan yang berhasil didapatkan: 13544\n"
     ]
    }
   ],
   "source": [
    "# ID Aplikasi Signal di Google Play Store\n",
    "app_id = 'org.thoughtcrime.securesms'\n",
    "\n",
    "# Melakukan scraping semua ulasan yang relevan dalam Bahasa Indonesia\n",
    "try:\n",
    "    print(f\"Memulai proses scraping untuk aplikasi: {app_id}...\")\n",
    "    result = reviews_all(\n",
    "        app_id,\n",
    "        lang='id',           # Bahasa: Indonesia\n",
    "        country='id',        # Negara: Indonesia\n",
    "        sort=Sort.MOST_RELEVANT, # Urutkan berdasarkan paling relevan\n",
    "        count=15000          # Set target awal\n",
    "    )\n",
    "    print(\"Proses scraping selesai.\")\n",
    "    print(f\"Jumlah ulasan yang berhasil didapatkan: {len(result)}\")\n",
    "except Exception as e:\n",
    "    print(f\"Terjadi error saat scraping: {e}\")"
   ]
  },
  {
   "cell_type": "markdown",
   "id": "b6a009c3",
   "metadata": {},
   "source": [
    "## 3. Konversi ke DataFrame dan Penyimpanan Data\n",
    "Data hasil scraping yang berupa list of dictionaries akan diubah menjadi Pandas DataFrame untuk kemudahan analisis. Kemudian, DataFrame tersebut akan disimpan dalam format `.csv`."
   ]
  },
  {
   "cell_type": "code",
   "execution_count": 3,
   "id": "fe08bc76",
   "metadata": {},
   "outputs": [
    {
     "name": "stdout",
     "output_type": "stream",
     "text": [
      "Informasi DataFrame:\n",
      "<class 'pandas.core.frame.DataFrame'>\n",
      "RangeIndex: 13544 entries, 0 to 13543\n",
      "Data columns (total 11 columns):\n",
      " #   Column                Non-Null Count  Dtype         \n",
      "---  ------                --------------  -----         \n",
      " 0   reviewId              13544 non-null  object        \n",
      " 1   userName              13544 non-null  object        \n",
      " 2   userImage             13544 non-null  object        \n",
      " 3   content               13544 non-null  object        \n",
      " 4   score                 13544 non-null  int64         \n",
      " 5   thumbsUpCount         13544 non-null  int64         \n",
      " 6   reviewCreatedVersion  11658 non-null  object        \n",
      " 7   at                    13544 non-null  datetime64[ns]\n",
      " 8   replyContent          6 non-null      object        \n",
      " 9   repliedAt             6 non-null      datetime64[ns]\n",
      " 10  appVersion            11658 non-null  object        \n",
      "dtypes: datetime64[ns](2), int64(2), object(7)\n",
      "memory usage: 1.1+ MB\n",
      "\n",
      "5 baris pertama data:\n",
      "                               reviewId         userName  \\\n",
      "0  1d1320cd-9eb6-41ae-8119-df7ac215af47  Pengguna Google   \n",
      "1  07611a1e-c3a7-4a61-b03f-4af88a756278  Pengguna Google   \n",
      "2  85702b3b-04cf-4d10-bd89-05675a1573bc  Pengguna Google   \n",
      "3  1974dfb8-b9c8-471d-8c91-d2a9a3493436  Pengguna Google   \n",
      "4  6b4d8345-959e-46fe-a615-7fed934075de  Pengguna Google   \n",
      "\n",
      "                                           userImage  \\\n",
      "0  https://play-lh.googleusercontent.com/EGemoI2N...   \n",
      "1  https://play-lh.googleusercontent.com/EGemoI2N...   \n",
      "2  https://play-lh.googleusercontent.com/EGemoI2N...   \n",
      "3  https://play-lh.googleusercontent.com/EGemoI2N...   \n",
      "4  https://play-lh.googleusercontent.com/EGemoI2N...   \n",
      "\n",
      "                                             content  score  thumbsUpCount  \\\n",
      "0  Apa aja dokumen yg disimpan disignal aman. Tap...      5             70   \n",
      "1  Saya berharap Signal bisa bersinar & memenangk...      5             19   \n",
      "2  saat ini aplikasi saya tidak bisa menerima pes...      1              8   \n",
      "3  mudah2n gak ribet kaya aplikasi wa..mau daftar...      5              1   \n",
      "4  Aplikasinya sudah sangat bagus, akan tetapi ke...      4            261   \n",
      "\n",
      "  reviewCreatedVersion                  at replyContent repliedAt appVersion  \n",
      "0               7.36.2 2025-03-21 00:05:56         None       NaT     7.36.2  \n",
      "1               7.41.3 2025-05-18 12:45:17         None       NaT     7.41.3  \n",
      "2               7.37.3 2025-03-26 09:40:22         None       NaT     7.37.3  \n",
      "3               7.41.4 2025-05-24 08:48:12         None       NaT     7.41.4  \n",
      "4               7.28.4 2025-01-06 18:34:17         None       NaT     7.28.4  \n",
      "\n",
      "Data berhasil disimpan ke dalam file 'signal_reviews.csv'.\n"
     ]
    }
   ],
   "source": [
    "# Konversi hasil scraping ke Pandas DataFrame\n",
    "df_reviews = pd.DataFrame(result)\n",
    "\n",
    "# Menampilkan informasi dasar dan 5 baris pertama dari DataFrame\n",
    "print(\"Informasi DataFrame:\")\n",
    "df_reviews.info()\n",
    "print(\"\\n5 baris pertama data:\")\n",
    "print(df_reviews.head())\n",
    "\n",
    "# Menyimpan DataFrame ke dalam file CSV\n",
    "# File ini akan menjadi dataset utama untuk notebook analisis sentimen.\n",
    "nama_file = 'signal_reviews.csv'\n",
    "df_reviews.to_csv(nama_file, index=False)\n",
    "\n",
    "print(f\"\\nData berhasil disimpan ke dalam file '{nama_file}'.\")"
   ]
  },
  {
   "cell_type": "markdown",
   "id": "3ac83d3f",
   "metadata": {},
   "source": [
    "## 4. Kesimpulan Scraping\n",
    "Tahap scraping telah berhasil dijalankan. Sebuah dataset berisi lebih dari 10.000 ulasan aplikasi Signal telah dikumpulkan dan disimpan dalam file `signal_reviews.csv`. Dataset ini siap digunakan untuk tahap selanjutnya, yaitu pra-pemrosesan, analisis, dan pemodelan."
   ]
  }
 ],
 "metadata": {
  "kernelspec": {
   "display_name": "base",
   "language": "python",
   "name": "python3"
  },
  "language_info": {
   "codemirror_mode": {
    "name": "ipython",
    "version": 3
   },
   "file_extension": ".py",
   "mimetype": "text/x-python",
   "name": "python",
   "nbconvert_exporter": "python",
   "pygments_lexer": "ipython3",
   "version": "3.10.9"
  }
 },
 "nbformat": 4,
 "nbformat_minor": 5
}
